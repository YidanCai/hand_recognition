{
  "nbformat": 4,
  "nbformat_minor": 0,
  "metadata": {
    "colab": {
      "name": "V1_0_hand_homework 4th.ipynb",
      "provenance": [],
      "toc_visible": true,
      "machine_shape": "hm"
    },
    "kernelspec": {
      "name": "python3",
      "display_name": "Python 3"
    }
  },
  "cells": [
    {
      "cell_type": "markdown",
      "metadata": {
        "id": "lDOc4QOTSwkG"
      },
      "source": [
        "Run all the cells in order"
      ]
    },
    {
      "cell_type": "code",
      "metadata": {
        "id": "NFbRVUD2xOHg",
        "colab": {
          "base_uri": "https://localhost:8080/",
          "height": 122
        },
        "outputId": "7ddb4c00-d609-4b9d-c4a0-5f58e80a3fe8"
      },
      "source": [
        "#mount the google driver\n",
        "from google.colab import drive\n",
        "drive.mount('/content/drive')"
      ],
      "execution_count": null,
      "outputs": [
        {
          "output_type": "stream",
          "text": [
            "Go to this URL in a browser: https://accounts.google.com/o/oauth2/auth?client_id=947318989803-6bn6qk8qdgf4n4g3pfee6491hc0brc4i.apps.googleusercontent.com&redirect_uri=urn%3aietf%3awg%3aoauth%3a2.0%3aoob&response_type=code&scope=email%20https%3a%2f%2fwww.googleapis.com%2fauth%2fdocs.test%20https%3a%2f%2fwww.googleapis.com%2fauth%2fdrive%20https%3a%2f%2fwww.googleapis.com%2fauth%2fdrive.photos.readonly%20https%3a%2f%2fwww.googleapis.com%2fauth%2fpeopleapi.readonly\n",
            "\n",
            "Enter your authorization code:\n",
            "··········\n",
            "Mounted at /content/drive\n"
          ],
          "name": "stdout"
        }
      ]
    },
    {
      "cell_type": "code",
      "metadata": {
        "id": "epvKVMfbkOF4"
      },
      "source": [
        "#import dependencies\n",
        "from IPython.display import display, Javascript,HTML, JSON\n",
        "from google.colab.output import eval_js\n",
        "from base64 import b64decode, b64encode\n",
        "from PIL import Image\n",
        "import io\n",
        "import numpy as np\n",
        "import cv2 \n",
        "import os\n",
        "import IPython\n",
        "import uuid\n",
        "from google.colab import output\n",
        "from IPython.display import Image as Im\n",
        "import time, sys\n",
        "from IPython.display import clear_output"
      ],
      "execution_count": null,
      "outputs": []
    },
    {
      "cell_type": "markdown",
      "metadata": {
        "id": "XRNs-YIGSRSl"
      },
      "source": [
        "we need to get the haarcascade file for using use Casscasde Classifier in the fact detect part"
      ]
    },
    {
      "cell_type": "code",
      "metadata": {
        "id": "ePo8QbnmkGzJ"
      },
      "source": [
        "!wget https://raw.githubusercontent.com/opencv/opencv/master/data/haarcascades/haarcascade_frontalface_alt.xml -q"
      ],
      "execution_count": null,
      "outputs": []
    },
    {
      "cell_type": "code",
      "metadata": {
        "id": "G4csliqI60tS"
      },
      "source": [
        "#save the cascade file, we'll use it later\n",
        "cascade_fn = \"haarcascade_frontalface_alt.xml\"\n",
        "cascade = cv2.CascadeClassifier(cv2.samples.findFile(cascade_fn))"
      ],
      "execution_count": null,
      "outputs": []
    },
    {
      "cell_type": "code",
      "metadata": {
        "id": "hTgtwxyGCgui"
      },
      "source": [
        "#define functions\n",
        "#use array to represent the image\n",
        "def byte2image(byte):\n",
        "  jpeg = b64decode(byte.split(',')[1])\n",
        "  im = Image.open(io.BytesIO(jpeg))\n",
        "  return np.array(im)\n",
        "\n",
        "# encode from array to b64 code\n",
        "def image2byte(image):\n",
        "  image = Image.fromarray(image)\n",
        "  buffer = io.BytesIO()\n",
        "  image.save(buffer, 'jpeg')\n",
        "  buffer.seek(0)\n",
        "  x = b64encode(buffer.read()).decode('utf-8')\n",
        "  return x\n",
        "\n",
        "#this function draws the square\n",
        "def draw_rects(img, rect, color):\n",
        "    x1, y1, x2, y2 = rect\n",
        "    cv2.rectangle(img, (x1, y1), (x2, y2), color, 8)\n",
        "\n",
        "#this function detect the face in image and return the position\n",
        "def detect(img, cascade):\n",
        "  #Apply the AdaBoost classifier \n",
        "    rects = cascade.detectMultiScale(img, scaleFactor=1.3, minNeighbors=4, minSize=(30, 30),\n",
        "                                     flags=cv2.CASCADE_SCALE_IMAGE)\n",
        "    if len(rects) == 0:\n",
        "        return []\n",
        "   #If faces are found, it returns the positions of detected faces as Rect(x,y,w,h),we then transfer it to (x,y,x+w,y+h)\n",
        "    rects[:,2:] += rects[:,:2]\n",
        "    return rects\n",
        "\n"
      ],
      "execution_count": null,
      "outputs": []
    },
    {
      "cell_type": "markdown",
      "metadata": {
        "id": "d-3hWVE4S7uF"
      },
      "source": [
        "This function is for showing video and taking photo"
      ]
    },
    {
      "cell_type": "code",
      "metadata": {
        "id": "d_WzLBI4kQCI"
      },
      "source": [
        "def VideoCapture():\n",
        "  js = Javascript('''\n",
        "    async function create(){\n",
        "      div = document.createElement('div');\n",
        "      document.body.appendChild(div);\n",
        "\n",
        "      video = document.createElement('video');\n",
        "      video.setAttribute('playsinline', '');\n",
        "      video.style.display = \"none\";\n",
        "\n",
        "      div.appendChild(video);\n",
        "\n",
        "      stream = await navigator.mediaDevices.getUserMedia({video: {facingMode: \"environment\"}});\n",
        "      video.srcObject = stream;\n",
        "\n",
        "      await video.play();\n",
        "\n",
        "      canvas =  document.createElement('canvas');\n",
        "      canvas.width = video.videoWidth;\n",
        "      canvas.height = video.videoHeight;\n",
        "      canvas.getContext('2d').drawImage(video, 0, 0);\n",
        "\n",
        "      div_out = document.createElement('div');\n",
        "      document.body.appendChild(div_out);\n",
        "      \n",
        "      img224 = document.createElement('img');\n",
        "      img224.id = \"finalImage224\";\n",
        "      div_out.appendChild(img224);\n",
        "\n",
        "      img64 = document.createElement('img');\n",
        "      img64.id = \"finalImage64\";\n",
        "      div_out.appendChild(img64);\n",
        "\n",
        "      transfer = document.createElement('div');\n",
        "      transfer.id = \"transfer\";\n",
        "      transfer.style.color = \"none\";\n",
        "      document.body.appendChild(transfer);\n",
        "\n",
        "      //window.arr64 = [];\n",
        "      //window.arr224 = [];\n",
        "\n",
        "    }\n",
        "\n",
        "    async function capture(){\n",
        "        return await new Promise(function(resolve, reject){\n",
        "            pendingResolve = resolve;\n",
        "            canvas.getContext('2d').drawImage(video, 0, 0);\n",
        "            result = canvas.toDataURL('image/jpeg', 0.8);\n",
        "            pendingResolve(result);\n",
        "        })\n",
        "    }\n",
        "\n",
        "    function showimg(imgsourceb64){\n",
        "        img64.src = \"data:image/jpg;base64,\" + imgsourceb64;\n",
        "    \n",
        "    }\n",
        "\n",
        "  ''')\n",
        "  display(js)\n"
      ],
      "execution_count": null,
      "outputs": []
    },
    {
      "cell_type": "code",
      "metadata": {
        "id": "MCE_b0xcJJXo"
      },
      "source": [
        "#this button click function is borrowed from Mr. Seyed Farzam\n",
        "\n",
        "def ClickTracker():\n",
        "  js = Javascript('''\n",
        "\n",
        "    // Add a button under the images for clicking and save the image\n",
        "    async function JSSaveImage() {\n",
        "      button = document.createElement('button');\n",
        "      button.setAttribute('content', 'Click to Save Image');\n",
        "      button.setAttribute('onclick', 'savejs()');\n",
        "      button.innerHTML = 'Click to Save Image';\n",
        "      \n",
        "\n",
        "      input = document.createElement('input')\n",
        "      input.id = \"inputLetter\"\n",
        "\n",
        "      document.body.appendChild(input);\n",
        "      document.body.appendChild(button);\n",
        "    } \n",
        " \n",
        "    function  savejs() {\n",
        "      document.getElementById(\"transfer\").innerHTML = \"photo is saved\";\n",
        "    }\n",
        "\n",
        "    // in each iteration the python code execute this function and based on the message save the images or not\n",
        "    async function  checkForSave() {\n",
        "      decide = document.getElementById(\"transfer\").innerHTML;\n",
        "      document.getElementById(\"transfer\").innerHTML = \"waiting\";\n",
        "      if( decide == \"photo is saved\") {\n",
        "          return true;\n",
        "      }\n",
        "      else {\n",
        "          return false;\n",
        "      }\n",
        "    }\n",
        "\n",
        "    async function getLetter() {\n",
        "       decide = document.getElementById(\"inputLetter\").value;\n",
        "       return await decide\n",
        "    }\n",
        "\n",
        "    ''')\n",
        "  display(js)"
      ],
      "execution_count": null,
      "outputs": []
    },
    {
      "cell_type": "markdown",
      "metadata": {
        "id": "EtoMIZRrNO5m"
      },
      "source": [
        "Finding the best HSV masks\n",
        "\n",
        " the HSV mask should be different in different enviroment, so it's better to find the best combination each time before saving images\n",
        "\n",
        " The following HSV related function come from Seyed Farzam"
      ]
    },
    {
      "cell_type": "code",
      "metadata": {
        "id": "MUpIbCzONGte"
      },
      "source": [
        "def HSVJSPANEL():\n",
        "  js2 = Javascript('''\n",
        "    // Add a button under the images for clicking and save the image\n",
        "    async function PanelHSV() {  \n",
        "      heading1 = MakeHeader(\"from\", 'h6');\n",
        "      h0 = Makeinput(\"h0\",0);\n",
        "      s0 = Makeinput(\"s0\",0);\n",
        "      v0 = Makeinput(\"v0\",0);\n",
        "      document.body.appendChild(document.createElement('br'));\n",
        "      document.body.appendChild(document.createElement('br'));\n",
        "      heading2 = MakeHeader(\"to\", 'h6');\n",
        "      h1 = Makeinput(\"h1\",255);\n",
        "      s1 = Makeinput(\"s1\",255);\n",
        "      v1 = Makeinput(\"v1\",255);\n",
        "    }\n",
        "    function Makeinput(id, value){\n",
        "      input = document.createElement('input');\n",
        "      input.setAttribute('type', 'number');\n",
        "      input.setAttribute('min', '0');\n",
        "      input.setAttribute('max', '255');\n",
        "      input.setAttribute('value', value);\n",
        "      input.id = id;\n",
        "      document.body.appendChild(input);\n",
        "    }\n",
        "    function MakeHeader(text, type) {\n",
        "      heading = document.createElement(type);\n",
        "      heading.innerHTML = text;\n",
        "      document.body.appendChild(heading);\n",
        "    }\n",
        "    async function GetResult() {\n",
        "       var result = {\n",
        "         \"h0\" : document.getElementById(\"h0\").value,\n",
        "         \"s0\" : document.getElementById(\"s0\").value,\n",
        "         \"v0\" : document.getElementById(\"v0\").value,\n",
        "         \"h1\" : document.getElementById(\"h1\").value,\n",
        "         \"s1\" : document.getElementById(\"s1\").value,\n",
        "         \"v1\" : document.getElementById(\"v1\").value\n",
        "       }\n",
        "       return await result\n",
        "    }\n",
        "    ''')\n",
        "  display(js2)"
      ],
      "execution_count": null,
      "outputs": []
    },
    {
      "cell_type": "code",
      "metadata": {
        "id": "aipn4CDrNvzI",
        "colab": {
          "base_uri": "https://localhost:8080/",
          "height": 340
        },
        "outputId": "4d642519-52bb-434d-ad7f-9c6ac5b8bbd1"
      },
      "source": [
        "#run this one and modify to get the best numbers for masks\n",
        "def HSVTunner():\n",
        "  HSVJSPANEL()\n",
        "  eval_js('PanelHSV()')\n",
        "  VideoCapture()\n",
        "  eval_js('create()')\n",
        "  prob=[]\n",
        "\n",
        "  while True:\n",
        "      byte = eval_js('capture()')\n",
        "      im = byte2image(byte)\n",
        "      dichsv = eval_js('GetResult()')\n",
        "      fromhsv = np.array((float(dichsv['h0']), float(dichsv['s0']), float(dichsv['v0'])))\n",
        "      tohsv = np.array((float(dichsv['h1']), float(dichsv['s1']), float(dichsv['v1'])))\n",
        "\n",
        "      hsv = cv2.cvtColor(im, cv2.COLOR_BGR2HSV)\n",
        "      mask=cv2.inRange(hsv,fromhsv,tohsv)\n",
        "      hist = cv2.calcHist( [hsv], [0], mask, [16], [0, 180] )\n",
        "      cv2.normalize(hist, hist, 0, 255, cv2.NORM_MINMAX)\n",
        "      hist = hist.reshape(-1)\n",
        "      prob = cv2.calcBackProject([hsv], [0], hist, [0, 180], 1)\n",
        "      prob &= mask\n",
        "      #prob = camshiftTracker.checkProbability(im, fromhsv, tohsv)\n",
        "      eval_js('showimg(\"{}\")'.format(image2byte(prob)))\n",
        "HSVTunner()"
      ],
      "execution_count": null,
      "outputs": [
        {
          "output_type": "error",
          "ename": "MessageError",
          "evalue": "ignored",
          "traceback": [
            "\u001b[0;31m---------------------------------------------------------------------------\u001b[0m",
            "\u001b[0;31mMessageError\u001b[0m                              Traceback (most recent call last)",
            "\u001b[0;32m<ipython-input-112-2854a49f4059>\u001b[0m in \u001b[0;36m<module>\u001b[0;34m()\u001b[0m\n\u001b[1;32m     22\u001b[0m       \u001b[0;31m#prob = camshiftTracker.checkProbability(im, fromhsv, tohsv)\u001b[0m\u001b[0;34m\u001b[0m\u001b[0;34m\u001b[0m\u001b[0;34m\u001b[0m\u001b[0m\n\u001b[1;32m     23\u001b[0m       \u001b[0meval_js\u001b[0m\u001b[0;34m(\u001b[0m\u001b[0;34m'showimg(\"{}\")'\u001b[0m\u001b[0;34m.\u001b[0m\u001b[0mformat\u001b[0m\u001b[0;34m(\u001b[0m\u001b[0mimage2byte\u001b[0m\u001b[0;34m(\u001b[0m\u001b[0mprob\u001b[0m\u001b[0;34m)\u001b[0m\u001b[0;34m)\u001b[0m\u001b[0;34m)\u001b[0m\u001b[0;34m\u001b[0m\u001b[0;34m\u001b[0m\u001b[0m\n\u001b[0;32m---> 24\u001b[0;31m \u001b[0mHSVTunner\u001b[0m\u001b[0;34m(\u001b[0m\u001b[0;34m)\u001b[0m\u001b[0;34m\u001b[0m\u001b[0;34m\u001b[0m\u001b[0m\n\u001b[0m",
            "\u001b[0;32m<ipython-input-112-2854a49f4059>\u001b[0m in \u001b[0;36mHSVTunner\u001b[0;34m()\u001b[0m\n\u001b[1;32m     21\u001b[0m       \u001b[0mprob\u001b[0m \u001b[0;34m&=\u001b[0m \u001b[0mmask\u001b[0m\u001b[0;34m\u001b[0m\u001b[0;34m\u001b[0m\u001b[0m\n\u001b[1;32m     22\u001b[0m       \u001b[0;31m#prob = camshiftTracker.checkProbability(im, fromhsv, tohsv)\u001b[0m\u001b[0;34m\u001b[0m\u001b[0;34m\u001b[0m\u001b[0;34m\u001b[0m\u001b[0m\n\u001b[0;32m---> 23\u001b[0;31m       \u001b[0meval_js\u001b[0m\u001b[0;34m(\u001b[0m\u001b[0;34m'showimg(\"{}\")'\u001b[0m\u001b[0;34m.\u001b[0m\u001b[0mformat\u001b[0m\u001b[0;34m(\u001b[0m\u001b[0mimage2byte\u001b[0m\u001b[0;34m(\u001b[0m\u001b[0mprob\u001b[0m\u001b[0;34m)\u001b[0m\u001b[0;34m)\u001b[0m\u001b[0;34m)\u001b[0m\u001b[0;34m\u001b[0m\u001b[0;34m\u001b[0m\u001b[0m\n\u001b[0m\u001b[1;32m     24\u001b[0m \u001b[0mHSVTunner\u001b[0m\u001b[0;34m(\u001b[0m\u001b[0;34m)\u001b[0m\u001b[0;34m\u001b[0m\u001b[0;34m\u001b[0m\u001b[0m\n",
            "\u001b[0;32m/usr/local/lib/python3.6/dist-packages/google/colab/output/_js.py\u001b[0m in \u001b[0;36meval_js\u001b[0;34m(script, ignore_result)\u001b[0m\n\u001b[1;32m     37\u001b[0m   \u001b[0;32mif\u001b[0m \u001b[0mignore_result\u001b[0m\u001b[0;34m:\u001b[0m\u001b[0;34m\u001b[0m\u001b[0;34m\u001b[0m\u001b[0m\n\u001b[1;32m     38\u001b[0m     \u001b[0;32mreturn\u001b[0m\u001b[0;34m\u001b[0m\u001b[0;34m\u001b[0m\u001b[0m\n\u001b[0;32m---> 39\u001b[0;31m   \u001b[0;32mreturn\u001b[0m \u001b[0m_message\u001b[0m\u001b[0;34m.\u001b[0m\u001b[0mread_reply_from_input\u001b[0m\u001b[0;34m(\u001b[0m\u001b[0mrequest_id\u001b[0m\u001b[0;34m)\u001b[0m\u001b[0;34m\u001b[0m\u001b[0;34m\u001b[0m\u001b[0m\n\u001b[0m\u001b[1;32m     40\u001b[0m \u001b[0;34m\u001b[0m\u001b[0m\n\u001b[1;32m     41\u001b[0m \u001b[0;34m\u001b[0m\u001b[0m\n",
            "\u001b[0;32m/usr/local/lib/python3.6/dist-packages/google/colab/_message.py\u001b[0m in \u001b[0;36mread_reply_from_input\u001b[0;34m(message_id, timeout_sec)\u001b[0m\n\u001b[1;32m    104\u001b[0m         reply.get('colab_msg_id') == message_id):\n\u001b[1;32m    105\u001b[0m       \u001b[0;32mif\u001b[0m \u001b[0;34m'error'\u001b[0m \u001b[0;32min\u001b[0m \u001b[0mreply\u001b[0m\u001b[0;34m:\u001b[0m\u001b[0;34m\u001b[0m\u001b[0;34m\u001b[0m\u001b[0m\n\u001b[0;32m--> 106\u001b[0;31m         \u001b[0;32mraise\u001b[0m \u001b[0mMessageError\u001b[0m\u001b[0;34m(\u001b[0m\u001b[0mreply\u001b[0m\u001b[0;34m[\u001b[0m\u001b[0;34m'error'\u001b[0m\u001b[0;34m]\u001b[0m\u001b[0;34m)\u001b[0m\u001b[0;34m\u001b[0m\u001b[0;34m\u001b[0m\u001b[0m\n\u001b[0m\u001b[1;32m    107\u001b[0m       \u001b[0;32mreturn\u001b[0m \u001b[0mreply\u001b[0m\u001b[0;34m.\u001b[0m\u001b[0mget\u001b[0m\u001b[0;34m(\u001b[0m\u001b[0;34m'data'\u001b[0m\u001b[0;34m,\u001b[0m \u001b[0;32mNone\u001b[0m\u001b[0;34m)\u001b[0m\u001b[0;34m\u001b[0m\u001b[0;34m\u001b[0m\u001b[0m\n\u001b[1;32m    108\u001b[0m \u001b[0;34m\u001b[0m\u001b[0m\n",
            "\u001b[0;31mMessageError\u001b[0m: Error: Cell has no view"
          ]
        }
      ]
    },
    {
      "cell_type": "markdown",
      "metadata": {
        "id": "1Kb9Zu_TR9kz"
      },
      "source": [
        "Following three cells are just for creating and changing directory in Google Drive"
      ]
    },
    {
      "cell_type": "code",
      "metadata": {
        "id": "GrFyBLGoX6Ox",
        "colab": {
          "base_uri": "https://localhost:8080/",
          "height": 34
        },
        "outputId": "abe4a27d-110b-4b96-a397-3c39a792ebe5"
      },
      "source": [
        "cd drive/'My Drive'"
      ],
      "execution_count": null,
      "outputs": [
        {
          "output_type": "stream",
          "text": [
            "/content/drive/My Drive\n"
          ],
          "name": "stdout"
        }
      ]
    },
    {
      "cell_type": "code",
      "metadata": {
        "id": "2O1gamrqYGAf"
      },
      "source": [
        "#create a folder\n",
        "os.mkdir('yourhand')"
      ],
      "execution_count": null,
      "outputs": []
    },
    {
      "cell_type": "code",
      "metadata": {
        "id": "Bd4hFfuyYgS9",
        "colab": {
          "base_uri": "https://localhost:8080/",
          "height": 34
        },
        "outputId": "eda5ab16-d500-4709-e9c3-343b281b7877"
      },
      "source": [
        "#change directory to this folder\n",
        "cd 'yourhand'"
      ],
      "execution_count": null,
      "outputs": [
        {
          "output_type": "stream",
          "text": [
            "/content/drive/My Drive/yourhand\n"
          ],
          "name": "stdout"
        }
      ]
    },
    {
      "cell_type": "markdown",
      "metadata": {
        "id": "Jc7MFqYo7bv2"
      },
      "source": [
        "#Create dataset\n",
        "Next step is taking photo, detect and save.\n",
        "\n",
        "Input the letter you want to save, then click button will save two probability images, 16* 16 and 224* 224\n",
        "\n",
        "Set the starting number of the file name here"
      ]
    },
    {
      "cell_type": "code",
      "metadata": {
        "id": "VEc5a1Z9DGym"
      },
      "source": [
        "# this function for creating our dataset\n",
        "def getphotos():\n",
        "  # run JS function for capture the video stream\n",
        "  VideoCapture()\n",
        "  eval_js('create()')\n",
        "\n",
        "  #run JS script for click and save the image\n",
        "  ClickTracker()\n",
        "  eval_js('JSSaveImage()')\n",
        "\n",
        "  show_backproj=False\n",
        "\n",
        "  #Initialize lists\n",
        "  rects=[]\n",
        "  track_window_hand=()\n",
        "  prob16=[]\n",
        "  prob224=[]\n",
        "  ############set the starting number of the file name #######################\n",
        "  num=0\n",
        "\n",
        "  while True:\n",
        "    byte = eval_js('capture()')\n",
        "    im = byte2image(byte)\n",
        "\n",
        "    vis = im.copy()\n",
        "    imcopy=im.copy()\n",
        "\n",
        "    # load input image in hsv mode:\n",
        "    hsv = cv2.cvtColor(im, cv2.COLOR_BGR2HSV)\n",
        "    mask = cv2.inRange(hsv, np.array((25., 30., 30.)), np.array((180., 180., 204.)))\n",
        "\n",
        "    new_track_window=None\n",
        "\n",
        "    # check if there's face been detected\n",
        "\n",
        "    if len(rects):\n",
        "  #locate the position of face and define an area\n",
        "        for rect in rects:\n",
        "          x11,y11,x22,y22=rect\n",
        "          #set the margin as 20% of the height plus 30 pixels\n",
        "          pad=int(0.2*(y22-y11))+30\n",
        "          x1=x11-pad \n",
        "          # the space should lie inside the video screen\n",
        "          if x1 <0 :\n",
        "            x1=0\n",
        "\n",
        "          y1=y11-pad\n",
        "          if y1 <0:\n",
        "            y1=0\n",
        "\n",
        "          x2=x22+pad\n",
        "          if x2>im.shape[1]:\n",
        "            x2=im.shape[1]\n",
        "\n",
        "          y2=y22+pad\n",
        "          if y2>im.shape[0]:\n",
        "            y2=im.shape[0]\n",
        "\n",
        "          #back projection records how well the pixels fit the pixels of a histogram \n",
        "          prob = cv2.calcBackProject([hsv], [0], hist, [0, 180], 1)\n",
        "          prob &= mask\n",
        "          term_crit = ( cv2.TERM_CRITERIA_EPS | cv2.TERM_CRITERIA_COUNT, 10, 1 )\n",
        "\n",
        "          track_box, track_window = cv2.CamShift(prob[y1:y2,x1:x2], track_window, term_crit)\n",
        "\n",
        "          if track_window is not None:\n",
        "\n",
        "            xx,yy,ww,hh=track_window\n",
        "\n",
        "            rect=[xx+x1,yy+y1,xx++x1+ww,yy+y1+hh]\n",
        "\n",
        "          #if can't find the face in that area we search for the whole screen\n",
        "          else:\n",
        "\n",
        "              xr1,yr1,xr2,yr2=rect\n",
        "              track_window=(xr1+x1,yr1+y2,xr2-xr1,yr2-yr1)\n",
        "              track_box, track_window = cv2.CamShift(prob, track_window, term_crit)\n",
        "\n",
        "              xx,yy,ww,hh=track_window\n",
        "              rect=[xx,yy,xx+ww,yy+hh]\n",
        "            \n",
        "        # set the probability of face as zero \n",
        "          xp1,yp1,xp2,yp2=rect\n",
        "          prob2=prob\n",
        "          prob2[yp1:yp2,xp1:xp2]=0\n",
        "\n",
        "          if show_backproj is True:  \n",
        "            imcopy[:] = prob2[...,np.newaxis]\n",
        "      \n",
        "          #use the histgram we already get to find the hand\n",
        "\n",
        "          track_box_hand, track_window_hand = cv2.CamShift(prob2, track_window, term_crit)\n",
        "          xx,yy,ww,hh=track_window_hand\n",
        "          rect_hand=[xx,yy,xx+ww,yy+hh]\n",
        "\n",
        "          draw_rects(imcopy, rect_hand, (0, 255, 0))   \n",
        "\n",
        "          #the position of the hand \n",
        "\n",
        "          hand_prob=prob2[yy:yy+hh,xx:xx+ww]\n",
        "\n",
        "          #prob16 is for storing the probability of 16*16 image\n",
        "          #prob224 is for storing the probability of 224*224 image\n",
        "\n",
        "          prob16=cv2.resize(hand_prob, (16,16), interpolation = cv2.INTER_AREA)\n",
        "          prob224=cv2.resize(hand_prob, (224,224), interpolation = cv2.INTER_AREA)\n",
        "\n",
        "                                                                          \n",
        "  #before we track the histogram, we first need to detect the face and get the position\n",
        "\n",
        "    else:\n",
        "\n",
        "    \n",
        "          gray = cv2.cvtColor(vis, cv2.COLOR_RGB2GRAY)\n",
        "\n",
        "          #use Cascade classifier to detect the face\n",
        "\n",
        "          rects = detect(gray, cascade)\n",
        "\n",
        "          if len(rects)>0:\n",
        "\n",
        "            for rect in rects:\n",
        "              x11,y11,x22,y22=rect\n",
        "\n",
        "            track_window=(x11,y11,x22-x11,y22-y11)\n",
        "            hsv_roi = hsv[y11:y22,x11:x22]\n",
        "            mask_roi = mask[y11:y22,x11:x22]\n",
        "\n",
        "            #calculate the histogram\n",
        "            hist = cv2.calcHist( [hsv_roi], [0], mask_roi, [16], [0, 180] )\n",
        "            cv2.normalize(hist, hist, 0, 255, cv2.NORM_MINMAX)\n",
        "            hist = hist.reshape(-1)\n",
        "            vis_roi =vis[y11:y22,x11:x22]\n",
        "            cv2.bitwise_not(vis_roi, vis_roi)\n",
        "            vis[mask == 0] = 0\n",
        "\n",
        "            #set the margin as 20% of the height plus 30 pixels\n",
        "            pad=int(0.2*(y22-y11))+30\n",
        "            x1=x11-pad \n",
        "            # make sure the space lie inside the video screen\n",
        "            if x1 <0 :\n",
        "              x1=0\n",
        "\n",
        "            y1=y11-pad\n",
        "            if y1 <0:\n",
        "              y1=0\n",
        "\n",
        "            xx,yy,ww,hh=track_window\n",
        "            track_window=(xx-x1,yy-y1,ww,hh)\n",
        "\n",
        "            #for subrects in rects:\n",
        "              #draw_rects(imcopy, subrects, (0, 255, 0))\n",
        "          else:\n",
        "            print(\"no face detected\")\n",
        "      \n",
        "    eval_js('showimg(\"{}\")'.format(image2byte(imcopy)))\n",
        "    shouldISave = eval_js('checkForSave()')\n",
        "    \n",
        "    if shouldISave:\n",
        "          letter = eval_js('getLetter()')   \n",
        "          #count the number of images \n",
        "          num=num+1\n",
        "          #save two files for each images\n",
        "\n",
        "          filename16=letter+\"_\"+str(num)+\"_\"+str(16)+\".jpg\"\n",
        "          filename224=letter+\"_\"+str(num)+\"_\"+str(224)+\".jpg\"\n",
        "          im1 = Image.fromarray(prob16)\n",
        "          im1.save(filename16)\n",
        "          im2 = Image.fromarray(prob224)\n",
        "          im2.save(filename224)     \n",
        "\n"
      ],
      "execution_count": null,
      "outputs": []
    },
    {
      "cell_type": "code",
      "metadata": {
        "id": "ak8pzXZsFg1m",
        "colab": {
          "base_uri": "https://localhost:8080/",
          "height": 316
        },
        "outputId": "495756fb-131e-4b9e-c0ff-0d59d1923e76"
      },
      "source": [
        "#call the function to start building our dataset\n",
        "getphotos()"
      ],
      "execution_count": null,
      "outputs": [
        {
          "output_type": "error",
          "ename": "MessageError",
          "evalue": "ignored",
          "traceback": [
            "\u001b[0;31m---------------------------------------------------------------------------\u001b[0m",
            "\u001b[0;31mMessageError\u001b[0m                              Traceback (most recent call last)",
            "\u001b[0;32m<ipython-input-123-c8aa67e1a1b5>\u001b[0m in \u001b[0;36m<module>\u001b[0;34m()\u001b[0m\n\u001b[0;32m----> 1\u001b[0;31m \u001b[0mgetphotos\u001b[0m\u001b[0;34m(\u001b[0m\u001b[0;34m)\u001b[0m\u001b[0;34m\u001b[0m\u001b[0;34m\u001b[0m\u001b[0m\n\u001b[0m",
            "\u001b[0;32m<ipython-input-122-3547274b6e5c>\u001b[0m in \u001b[0;36mgetphotos\u001b[0;34m()\u001b[0m\n\u001b[1;32m     18\u001b[0m \u001b[0;34m\u001b[0m\u001b[0m\n\u001b[1;32m     19\u001b[0m   \u001b[0;32mwhile\u001b[0m \u001b[0;32mTrue\u001b[0m\u001b[0;34m:\u001b[0m\u001b[0;34m\u001b[0m\u001b[0;34m\u001b[0m\u001b[0m\n\u001b[0;32m---> 20\u001b[0;31m     \u001b[0mbyte\u001b[0m \u001b[0;34m=\u001b[0m \u001b[0meval_js\u001b[0m\u001b[0;34m(\u001b[0m\u001b[0;34m'capture()'\u001b[0m\u001b[0;34m)\u001b[0m\u001b[0;34m\u001b[0m\u001b[0;34m\u001b[0m\u001b[0m\n\u001b[0m\u001b[1;32m     21\u001b[0m     \u001b[0mim\u001b[0m \u001b[0;34m=\u001b[0m \u001b[0mbyte2image\u001b[0m\u001b[0;34m(\u001b[0m\u001b[0mbyte\u001b[0m\u001b[0;34m)\u001b[0m\u001b[0;34m\u001b[0m\u001b[0;34m\u001b[0m\u001b[0m\n\u001b[1;32m     22\u001b[0m \u001b[0;34m\u001b[0m\u001b[0m\n",
            "\u001b[0;32m/usr/local/lib/python3.6/dist-packages/google/colab/output/_js.py\u001b[0m in \u001b[0;36meval_js\u001b[0;34m(script, ignore_result)\u001b[0m\n\u001b[1;32m     37\u001b[0m   \u001b[0;32mif\u001b[0m \u001b[0mignore_result\u001b[0m\u001b[0;34m:\u001b[0m\u001b[0;34m\u001b[0m\u001b[0;34m\u001b[0m\u001b[0m\n\u001b[1;32m     38\u001b[0m     \u001b[0;32mreturn\u001b[0m\u001b[0;34m\u001b[0m\u001b[0;34m\u001b[0m\u001b[0m\n\u001b[0;32m---> 39\u001b[0;31m   \u001b[0;32mreturn\u001b[0m \u001b[0m_message\u001b[0m\u001b[0;34m.\u001b[0m\u001b[0mread_reply_from_input\u001b[0m\u001b[0;34m(\u001b[0m\u001b[0mrequest_id\u001b[0m\u001b[0;34m)\u001b[0m\u001b[0;34m\u001b[0m\u001b[0;34m\u001b[0m\u001b[0m\n\u001b[0m\u001b[1;32m     40\u001b[0m \u001b[0;34m\u001b[0m\u001b[0m\n\u001b[1;32m     41\u001b[0m \u001b[0;34m\u001b[0m\u001b[0m\n",
            "\u001b[0;32m/usr/local/lib/python3.6/dist-packages/google/colab/_message.py\u001b[0m in \u001b[0;36mread_reply_from_input\u001b[0;34m(message_id, timeout_sec)\u001b[0m\n\u001b[1;32m    104\u001b[0m         reply.get('colab_msg_id') == message_id):\n\u001b[1;32m    105\u001b[0m       \u001b[0;32mif\u001b[0m \u001b[0;34m'error'\u001b[0m \u001b[0;32min\u001b[0m \u001b[0mreply\u001b[0m\u001b[0;34m:\u001b[0m\u001b[0;34m\u001b[0m\u001b[0;34m\u001b[0m\u001b[0m\n\u001b[0;32m--> 106\u001b[0;31m         \u001b[0;32mraise\u001b[0m \u001b[0mMessageError\u001b[0m\u001b[0;34m(\u001b[0m\u001b[0mreply\u001b[0m\u001b[0;34m[\u001b[0m\u001b[0;34m'error'\u001b[0m\u001b[0;34m]\u001b[0m\u001b[0;34m)\u001b[0m\u001b[0;34m\u001b[0m\u001b[0;34m\u001b[0m\u001b[0m\n\u001b[0m\u001b[1;32m    107\u001b[0m       \u001b[0;32mreturn\u001b[0m \u001b[0mreply\u001b[0m\u001b[0;34m.\u001b[0m\u001b[0mget\u001b[0m\u001b[0;34m(\u001b[0m\u001b[0;34m'data'\u001b[0m\u001b[0;34m,\u001b[0m \u001b[0;32mNone\u001b[0m\u001b[0;34m)\u001b[0m\u001b[0;34m\u001b[0m\u001b[0;34m\u001b[0m\u001b[0m\n\u001b[1;32m    108\u001b[0m \u001b[0;34m\u001b[0m\u001b[0m\n",
            "\u001b[0;31mMessageError\u001b[0m: Error: Cell has no view"
          ]
        }
      ]
    },
    {
      "cell_type": "code",
      "metadata": {
        "id": "bKWxDeB471-e",
        "colab": {
          "base_uri": "https://localhost:8080/",
          "height": 913
        },
        "outputId": "79b4ce49-e125-48f6-9d5c-2e5720f2af36"
      },
      "source": [
        "#display some images\n",
        "display(Im('A_100_224.jpg'))\n",
        "display(Im('B_100_224.jpg'))\n",
        "display(Im('C_100_224.jpg'))\n",
        "display(Im('D_90_224.jpg'))"
      ],
      "execution_count": null,
      "outputs": [
        {
          "output_type": "display_data",
          "data": {
            "image/jpeg": "[encoded data removed]",
            "text/plain": [
              "<IPython.core.display.Image object>"
            ]
          },
          "metadata": {
            "tags": []
          }
        },
        {
          "output_type": "display_data",
          "data": {
            "image/jpeg": "[encoded data removed]",
            "text/plain": [
              "<IPython.core.display.Image object>"
            ]
          },
          "metadata": {
            "tags": []
          }
        },
        {
          "output_type": "display_data",
          "data": {
            "image/jpeg": "[encoded data removed]",
            "text/plain": [
              "<IPython.core.display.Image object>"
            ]
          },
          "metadata": {
            "tags": []
          }
        },
        {
          "output_type": "display_data",
          "data": {
            "image/jpeg": "[encoded data removed]",
            "text/plain": [
              "<IPython.core.display.Image object>"
            ]
          },
          "metadata": {
            "tags": []
          }
        }
      ]
    },
    {
      "cell_type": "code",
      "metadata": {
        "id": "ycx7q-JAt3Fw"
      },
      "source": [
        "#save all the 16*16 images to a txt file\n",
        "listoffiles=os.listdir()\n",
        "for file in listoffiles:\n",
        "  if file.endswith(\"16.jpg\"):\n",
        "    aletter=file[0]\n",
        "    imarrayy = np.array(Image.open(file))\n",
        "    imarrayyf= np.append(np.array([aletter]),imarrayy)\n",
        "\n",
        "    with open('dataset.txt', 'a') as f:\n",
        "      np.savetxt(f, np.column_stack(imarrayyf),delimiter=\",\", fmt='%s')"
      ],
      "execution_count": null,
      "outputs": []
    },
    {
      "cell_type": "code",
      "metadata": {
        "id": "NOnv1eIr2gae"
      },
      "source": [
        "#shuffle the lines\n",
        "import random\n",
        "lines = open('dataset.txt').readlines()\n",
        "random.shuffle(lines)\n",
        "open('dataset.txt', 'w').writelines(lines)"
      ],
      "execution_count": null,
      "outputs": []
    },
    {
      "cell_type": "code",
      "metadata": {
        "id": "MtqiOqiG3PlN"
      },
      "source": [
        "#create two arrays for samples and letters\n",
        "def load_dataset(dataset_file_path):\n",
        "    a = np.loadtxt(dataset_file_path, delimiter=',', converters={ 0 : lambda ch : ord(ch)-ord('A') })\n",
        "    samples, letters = a[:,1:], a[:,0]\n",
        "    return samples, letters\n",
        "\n",
        "samples, letters= load_dataset(\"dataset.txt\")"
      ],
      "execution_count": null,
      "outputs": []
    },
    {
      "cell_type": "markdown",
      "metadata": {
        "id": "wrDM7LrgUMgu"
      },
      "source": [
        "#MLP"
      ]
    },
    {
      "cell_type": "markdown",
      "metadata": {
        "id": "xCV0rmrwPSIX"
      },
      "source": [
        "Next we will train the model, the dataset I used is letter A,B,C,D. Each letter has around 200 images."
      ]
    },
    {
      "cell_type": "code",
      "metadata": {
        "id": "Fg7zsFw03SM6",
        "colab": {
          "base_uri": "https://localhost:8080/",
          "height": 52
        },
        "outputId": "1263d337-ca02-4e4b-8ac8-f37a1c769b9a"
      },
      "source": [
        "#split the dataset\n",
        "num_classes = 4\n",
        "train_ratio = 0.7\n",
        "n_train_samples = int(len(samples) * train_ratio)\n",
        "x_train, y_train = samples[:n_train_samples], letters[:n_train_samples]\n",
        "x_val, y_val = samples[n_train_samples:], letters[n_train_samples:]\n",
        "\n",
        "x_train = x_train.astype('float32')\n",
        "x_val = x_val.astype('float32')\n",
        "x_train /= 255\n",
        "x_val /= 255\n",
        "print(x_train.shape[0], 'train samples')\n",
        "print(x_val.shape[0], 'test samples')\n",
        "\n",
        "# convert class vectors to binary class matrices\n",
        "y_train = keras.utils.to_categorical(y_train, num_classes)\n",
        "y_val = keras.utils.to_categorical(y_val, num_classes)"
      ],
      "execution_count": null,
      "outputs": [
        {
          "output_type": "stream",
          "text": [
            "509 train samples\n",
            "219 test samples\n"
          ],
          "name": "stdout"
        }
      ]
    },
    {
      "cell_type": "code",
      "metadata": {
        "id": "sK7rSH_cOl-7",
        "colab": {
          "base_uri": "https://localhost:8080/",
          "height": 34
        },
        "outputId": "71770dc0-9bef-49f8-d907-663718deae4a"
      },
      "source": [
        "import keras\n",
        "from keras.models import Sequential\n",
        "from keras.layers import Dense, Dropout"
      ],
      "execution_count": null,
      "outputs": [
        {
          "output_type": "stream",
          "text": [
            "Using TensorFlow backend.\n"
          ],
          "name": "stderr"
        }
      ]
    },
    {
      "cell_type": "code",
      "metadata": {
        "id": "LVEgvaLT1WI6"
      },
      "source": [
        "#clear the previouss model built before building a new training model\n",
        "keras.backend.clear_session()"
      ],
      "execution_count": null,
      "outputs": []
    },
    {
      "cell_type": "markdown",
      "metadata": {
        "id": "i5clBBWU3Lff"
      },
      "source": [
        "For the model, I modify the number of neurals to 200, and delete the two drop layers. The accuracy i got is 0.968\n",
        "\n",
        "Following shows the 6 different combinations I have tried and the respect accuracy:\n",
        "\n",
        "\n",
        "\n",
        "\n",
        "\n",
        "> layer 1: Dense 100   dropout 2: 0.2   layer 3 : Dense 100   Dropout 4:0.2    Accuracy: 0.91\n",
        "\n",
        "> layer 1: Dense 200   dropout 2: 0.2   layer 3 : Dense 100  Dropout 4:0.1    Accuracy: 0.940\n",
        "\n",
        "> layer 1: Dense 100    layer 2 : Dense 100   Dropout 3: 0.2    Accuracy: 0.958\n",
        "\n",
        "> layer 1: Dense 100    layer 2 : Dense 100     Accuracy: 0.963\n",
        "\n",
        "> layer 1: Dense 200    layer 2 : Dense 100     Accuracy: 0.968\n",
        "\n",
        "> layer 1: Dense 300    layer 2 : Dense 100     Accuracy: 0.958"
      ]
    },
    {
      "cell_type": "code",
      "metadata": {
        "id": "3xyOkM5T3oXl",
        "colab": {
          "base_uri": "https://localhost:8080/",
          "height": 1000
        },
        "outputId": "8f4b56bc-3f74-4275-80ce-b5fbac60a3a8"
      },
      "source": [
        "#build and train the model, my dataset only has 4 letters so I set class as 4\n",
        "num_classes = 4\n",
        "epochs = 20\n",
        "\n",
        "model = Sequential()\n",
        "model.add(Dense(300, activation='relu', input_shape=(256,)))\n",
        "#model.add(Dropout(0.2))\n",
        "model.add(Dense(100, activation='relu'))\n",
        "#model.add(Dropout(0.2))\n",
        "model.add(Dense(num_classes, activation='softmax'))\n",
        "\n",
        "model.summary()\n",
        "\n",
        "model.compile(loss='categorical_crossentropy',\n",
        "              optimizer='rmsprop',\n",
        "              metrics=['accuracy'])\n",
        "\n",
        "history = model.fit(x_train, y_train,\n",
        "                    epochs=epochs,\n",
        "                    verbose=1,\n",
        "                    validation_data=(x_val, y_val))\n",
        "score = model.evaluate(x_val, y_val, verbose=0)\n",
        "print('Validation loss:', score[0])\n",
        "print('Validation accuracy:', score[1])"
      ],
      "execution_count": null,
      "outputs": [
        {
          "output_type": "stream",
          "text": [
            "Model: \"sequential_1\"\n",
            "_________________________________________________________________\n",
            "Layer (type)                 Output Shape              Param #   \n",
            "=================================================================\n",
            "dense_1 (Dense)              (None, 300)               77100     \n",
            "_________________________________________________________________\n",
            "dense_2 (Dense)              (None, 100)               30100     \n",
            "_________________________________________________________________\n",
            "dense_3 (Dense)              (None, 4)                 404       \n",
            "=================================================================\n",
            "Total params: 107,604\n",
            "Trainable params: 107,604\n",
            "Non-trainable params: 0\n",
            "_________________________________________________________________\n",
            "Train on 509 samples, validate on 219 samples\n",
            "Epoch 1/20\n",
            "509/509 [==============================] - 0s 236us/step - loss: 0.9359 - accuracy: 0.6582 - val_loss: 0.5883 - val_accuracy: 0.8128\n",
            "Epoch 2/20\n",
            "509/509 [==============================] - 0s 89us/step - loss: 0.4859 - accuracy: 0.8310 - val_loss: 0.6234 - val_accuracy: 0.7763\n",
            "Epoch 3/20\n",
            "509/509 [==============================] - 0s 90us/step - loss: 0.3564 - accuracy: 0.8900 - val_loss: 0.4799 - val_accuracy: 0.8539\n",
            "Epoch 4/20\n",
            "509/509 [==============================] - 0s 97us/step - loss: 0.2411 - accuracy: 0.9312 - val_loss: 0.2948 - val_accuracy: 0.9224\n",
            "Epoch 5/20\n",
            "509/509 [==============================] - 0s 88us/step - loss: 0.2515 - accuracy: 0.9175 - val_loss: 0.2630 - val_accuracy: 0.9178\n",
            "Epoch 6/20\n",
            "509/509 [==============================] - 0s 88us/step - loss: 0.1361 - accuracy: 0.9725 - val_loss: 0.2291 - val_accuracy: 0.9315\n",
            "Epoch 7/20\n",
            "509/509 [==============================] - 0s 88us/step - loss: 0.1871 - accuracy: 0.9371 - val_loss: 0.2053 - val_accuracy: 0.9452\n",
            "Epoch 8/20\n",
            "509/509 [==============================] - 0s 89us/step - loss: 0.0691 - accuracy: 0.9902 - val_loss: 0.2646 - val_accuracy: 0.9132\n",
            "Epoch 9/20\n",
            "509/509 [==============================] - 0s 89us/step - loss: 0.0778 - accuracy: 0.9823 - val_loss: 0.1708 - val_accuracy: 0.9589\n",
            "Epoch 10/20\n",
            "509/509 [==============================] - 0s 87us/step - loss: 0.0450 - accuracy: 0.9921 - val_loss: 0.1828 - val_accuracy: 0.9543\n",
            "Epoch 11/20\n",
            "509/509 [==============================] - 0s 91us/step - loss: 0.0591 - accuracy: 0.9862 - val_loss: 0.1738 - val_accuracy: 0.9543\n",
            "Epoch 12/20\n",
            "509/509 [==============================] - 0s 85us/step - loss: 0.0316 - accuracy: 0.9941 - val_loss: 0.1966 - val_accuracy: 0.9406\n",
            "Epoch 13/20\n",
            "509/509 [==============================] - 0s 86us/step - loss: 0.0196 - accuracy: 0.9961 - val_loss: 0.2342 - val_accuracy: 0.9543\n",
            "Epoch 14/20\n",
            "509/509 [==============================] - 0s 86us/step - loss: 0.0098 - accuracy: 1.0000 - val_loss: 0.2404 - val_accuracy: 0.9315\n",
            "Epoch 15/20\n",
            "509/509 [==============================] - 0s 84us/step - loss: 0.0995 - accuracy: 0.9686 - val_loss: 0.1751 - val_accuracy: 0.9680\n",
            "Epoch 16/20\n",
            "509/509 [==============================] - 0s 86us/step - loss: 0.0059 - accuracy: 1.0000 - val_loss: 0.1819 - val_accuracy: 0.9635\n",
            "Epoch 17/20\n",
            "509/509 [==============================] - 0s 83us/step - loss: 0.0038 - accuracy: 1.0000 - val_loss: 0.1871 - val_accuracy: 0.9680\n",
            "Epoch 18/20\n",
            "509/509 [==============================] - 0s 89us/step - loss: 0.0037 - accuracy: 1.0000 - val_loss: 0.2372 - val_accuracy: 0.9452\n",
            "Epoch 19/20\n",
            "509/509 [==============================] - 0s 84us/step - loss: 0.0182 - accuracy: 0.9941 - val_loss: 0.1964 - val_accuracy: 0.9635\n",
            "Epoch 20/20\n",
            "509/509 [==============================] - 0s 92us/step - loss: 0.0019 - accuracy: 1.0000 - val_loss: 0.2289 - val_accuracy: 0.9589\n",
            "Validation loss: 0.22892746179615525\n",
            "Validation accuracy: 0.9589040875434875\n"
          ],
          "name": "stdout"
        }
      ]
    },
    {
      "cell_type": "code",
      "metadata": {
        "id": "fXeuS3VP3q56",
        "colab": {
          "base_uri": "https://localhost:8080/",
          "height": 35
        },
        "outputId": "755f185b-3e52-4795-86ad-1c8b86649a78"
      },
      "source": [
        "#save the model\n",
        "model_json = model.to_json()\n",
        "with open(\"model.json\", \"w\") as json_file:\n",
        "    json_file.write(model_json)\n",
        "model.save_weights(\"model_weights.h5\")\n",
        "print(\"Saved model to disk\")"
      ],
      "execution_count": null,
      "outputs": [
        {
          "output_type": "stream",
          "text": [
            "Saved model to disk\n"
          ],
          "name": "stdout"
        }
      ]
    },
    {
      "cell_type": "code",
      "metadata": {
        "id": "DTwj_SmF4_v3"
      },
      "source": [
        "#read model\n",
        "from keras.models import model_from_json\n",
        "\n",
        "# load json and create model\n",
        "json_file = open('model.json', 'r')\n",
        "loaded_model_json = json_file.read()\n",
        "json_file.close()\n",
        "loaded_model = model_from_json(loaded_model_json)\n",
        "# load weights into new model\n",
        "loaded_model.load_weights(\"model_weights.h5\")"
      ],
      "execution_count": null,
      "outputs": []
    },
    {
      "cell_type": "markdown",
      "metadata": {
        "id": "Xg60Ckfrehhp"
      },
      "source": [
        "#Test the model with non-vgg model\n",
        "\n",
        "\n",
        " \n",
        "Run the function test(), it will print the letter detected. Because I only train the model with four letters, it can only detect 4 letters."
      ]
    },
    {
      "cell_type": "code",
      "metadata": {
        "id": "nywpoPs80QkB"
      },
      "source": [
        "#this function is almost the same as the previous function for saving the images\n",
        "def  test():\n",
        "  VideoCapture()\n",
        "  eval_js('create()')\n",
        "  show_backproj=False\n",
        "  take=False\n",
        "\n",
        "  #Initialize rects\n",
        "  rects=[]\n",
        "\n",
        "  track_window_hand=()\n",
        "  prob16=[]\n",
        "  prob224=[]\n",
        "\n",
        "  while True:\n",
        "    byte = eval_js('capture()')\n",
        "    im = byte2image(byte)\n",
        "\n",
        "    vis = im.copy()\n",
        "    imcopy=im.copy()\n",
        "\n",
        "    # load input image in hsv mode:\n",
        "    hsv = cv2.cvtColor(im, cv2.COLOR_BGR2HSV)\n",
        "    mask = cv2.inRange(hsv, np.array((25., 30., 30.)), np.array((180., 180., 204.)))\n",
        "\n",
        "    new_track_window=None\n",
        "\n",
        "    # check if there's face been detected\n",
        "  \n",
        "    if len(rects):\n",
        "  #locate the position of face and define an area\n",
        "        for rect in rects:\n",
        "          x11,y11,x22,y22=rect\n",
        "          #set the margin as 20% of the height plus 30 pixels\n",
        "          pad=int(0.2*(y22-y11))+30\n",
        "          x1=x11-pad \n",
        "          # the space should lie inside the video screen\n",
        "          if x1 <0 :\n",
        "            x1=0\n",
        "\n",
        "          y1=y11-pad\n",
        "          if y1 <0:\n",
        "            y1=0\n",
        "\n",
        "          x2=x22+pad\n",
        "          if x2>im.shape[1]:\n",
        "            x2=im.shape[1]\n",
        "\n",
        "          y2=y22+pad\n",
        "          if y2>im.shape[0]:\n",
        "            y2=im.shape[0]\n",
        "\n",
        "          #back projection records how well the pixels fit the pixels of a histogram \n",
        "          prob = cv2.calcBackProject([hsv], [0], hist, [0, 180], 1)\n",
        "          prob &= mask\n",
        "          term_crit = ( cv2.TERM_CRITERIA_EPS | cv2.TERM_CRITERIA_COUNT, 10, 1 )\n",
        "\n",
        "          track_box, track_window = cv2.CamShift(prob[y1:y2,x1:x2], track_window, term_crit)\n",
        "\n",
        "          if track_window is not None:\n",
        "\n",
        "            xx,yy,ww,hh=track_window\n",
        "\n",
        "            rect=[xx+x1,yy+y1,xx++x1+ww,yy+y1+hh]\n",
        "\n",
        "          #if can't find the face in that area we search for the whole screen\n",
        "          else:\n",
        "\n",
        "              xr1,yr1,xr2,yr2=rect\n",
        "              track_window=(xr1+x1,yr1+y2,xr2-xr1,yr2-yr1)\n",
        "              track_box, track_window = cv2.CamShift(prob, track_window, term_crit)\n",
        "\n",
        "              xx,yy,ww,hh=track_window\n",
        "              rect=[xx,yy,xx+ww,yy+hh]\n",
        "            \n",
        "        # set the probability of face as zero \n",
        "          xp1,yp1,xp2,yp2=rect\n",
        "          prob2=prob\n",
        "          prob2[yp1:yp2,xp1:xp2]=0\n",
        "\n",
        "          if show_backproj is True:  \n",
        "            imcopy[:] = prob2[...,np.newaxis]\n",
        "      \n",
        "          #use the histgram we already get to find the hand\n",
        "\n",
        "          track_box_hand, track_window_hand = cv2.CamShift(prob2, track_window, term_crit)\n",
        "          xx,yy,ww,hh=track_window_hand\n",
        "          rect_hand=[xx,yy,xx+ww,yy+hh]\n",
        "\n",
        "          draw_rects(imcopy, rect_hand, (0, 255, 0))   \n",
        "\n",
        "          #the position of the hand \n",
        "\n",
        "          hand_prob=prob2[yy:yy+hh,xx:xx+ww]\n",
        "\n",
        "          #prob16 is for storing the probability of 16*16 image\n",
        "          #prob224 is for storing the probability of 224*224 image\n",
        "\n",
        "          prob16=cv2.resize(hand_prob, (16,16), interpolation = cv2.INTER_AREA)\n",
        "          prob224=cv2.resize(hand_prob, (224,224), interpolation = cv2.INTER_AREA)\n",
        "\n",
        "          \n",
        "                                                                          \n",
        "  #before we track the histogram, we first need to detect the face and get the position\n",
        "\n",
        "    else:\n",
        "\n",
        "    \n",
        "          gray = cv2.cvtColor(vis, cv2.COLOR_RGB2GRAY)\n",
        "\n",
        "          #use Cascade classifier to detect the face\n",
        "\n",
        "          rects = detect(gray, cascade)\n",
        "\n",
        "          if len(rects)>0:\n",
        "\n",
        "            for rect in rects:\n",
        "              x11,y11,x22,y22=rect\n",
        "\n",
        "            track_window=(x11,y11,x22-x11,y22-y11)\n",
        "            hsv_roi = hsv[y11:y22,x11:x22]\n",
        "            mask_roi = mask[y11:y22,x11:x22]\n",
        "\n",
        "            #calculate the histogram\n",
        "            hist = cv2.calcHist( [hsv_roi], [0], mask_roi, [16], [0, 180] )\n",
        "            cv2.normalize(hist, hist, 0, 255, cv2.NORM_MINMAX)\n",
        "            hist = hist.reshape(-1)\n",
        "            vis_roi =vis[y11:y22,x11:x22]\n",
        "            cv2.bitwise_not(vis_roi, vis_roi)\n",
        "            vis[mask == 0] = 0\n",
        "\n",
        "            #set the margin as 20% of the height plus 30 pixels\n",
        "            pad=int(0.2*(y22-y11))+30\n",
        "            x1=x11-pad \n",
        "            # make sure the space lie inside the video screen\n",
        "            if x1 <0 :\n",
        "              x1=0\n",
        "\n",
        "            y1=y11-pad\n",
        "            if y1 <0:\n",
        "              y1=0\n",
        "\n",
        "            xx,yy,ww,hh=track_window\n",
        "            track_window=(xx-x1,yy-y1,ww,hh)\n",
        "\n",
        "            #for subrects in rects:\n",
        "              #draw_rects(imcopy, subrects, (0, 255, 0))   \n",
        "\n",
        "    eval_js('showimg(\"{}\")'.format(image2byte(imcopy)))\n",
        "\n",
        "\n",
        "\n",
        "    if len(prob16)>0:\n",
        "\n",
        "      #we save the 224*224 probability matrix\n",
        "\n",
        "      filename224=\"test_\"+str(224)+\"_test\"+\".jpg\"\n",
        "\n",
        "      im2 = Image.fromarray(prob224)\n",
        "      im2.save(filename224)\n",
        "      hand_im=np.array(prob16)\n",
        "      hand_im=hand_im.flatten()\n",
        "      hand_im=hand_im.reshape(1,256)\n",
        "      prediction = loaded_model.predict(hand_im) # where hand_image is the probability image of your hand of size (1,256)\n",
        "      prediction = prediction.argmax()\n",
        "      predicted_letter = chr(ord('A') + prediction)\n",
        "\n",
        "      #this is for printing the current letter\n",
        "\n",
        "      sys.stdout.write(\"\\r\" + predicted_letter)\n",
        "      sys.stdout.flush()\n",
        "      \n",
        "\n",
        "\n"
      ],
      "execution_count": null,
      "outputs": []
    },
    {
      "cell_type": "code",
      "metadata": {
        "id": "WNx-S4abMXV7",
        "colab": {
          "base_uri": "https://localhost:8080/",
          "height": 818
        },
        "outputId": "f6ee927f-5eda-4ad4-b413-bebdb271d270"
      },
      "source": [
        "#run this and show the gesture, it will print the letter above the video\n",
        "test()"
      ],
      "execution_count": null,
      "outputs": [
        {
          "output_type": "display_data",
          "data": {
            "application/javascript": [
              "\n",
              "    async function create(){\n",
              "      div = document.createElement('div');\n",
              "      document.body.appendChild(div);\n",
              "\n",
              "      video = document.createElement('video');\n",
              "      video.setAttribute('playsinline', '');\n",
              "      video.style.display = \"none\";\n",
              "\n",
              "      div.appendChild(video);\n",
              "\n",
              "      stream = await navigator.mediaDevices.getUserMedia({video: {facingMode: \"environment\"}});\n",
              "      video.srcObject = stream;\n",
              "\n",
              "      await video.play();\n",
              "\n",
              "      canvas =  document.createElement('canvas');\n",
              "      canvas.width = video.videoWidth;\n",
              "      canvas.height = video.videoHeight;\n",
              "      canvas.getContext('2d').drawImage(video, 0, 0);\n",
              "\n",
              "      div_out = document.createElement('div');\n",
              "      document.body.appendChild(div_out);\n",
              "      \n",
              "      img224 = document.createElement('img');\n",
              "      img224.id = \"finalImage224\";\n",
              "      div_out.appendChild(img224);\n",
              "\n",
              "      img64 = document.createElement('img');\n",
              "      img64.id = \"finalImage64\";\n",
              "      div_out.appendChild(img64);\n",
              "\n",
              "      transfer = document.createElement('div');\n",
              "      transfer.id = \"transfer\";\n",
              "      transfer.style.color = \"none\";\n",
              "      document.body.appendChild(transfer);\n",
              "\n",
              "      //window.arr64 = [];\n",
              "      //window.arr224 = [];\n",
              "\n",
              "    }\n",
              "\n",
              "    async function capture(){\n",
              "        return await new Promise(function(resolve, reject){\n",
              "            pendingResolve = resolve;\n",
              "            canvas.getContext('2d').drawImage(video, 0, 0);\n",
              "            result = canvas.toDataURL('image/jpeg', 0.8);\n",
              "            pendingResolve(result);\n",
              "        })\n",
              "    }\n",
              "\n",
              "    function showimg(imgsourceb64){\n",
              "        img64.src = \"data:image/jpg;base64,\" + imgsourceb64;\n",
              "    \n",
              "    }\n",
              "\n",
              "  "
            ],
            "text/plain": [
              "<IPython.core.display.Javascript object>"
            ]
          },
          "metadata": {
            "tags": []
          }
        },
        {
          "output_type": "stream",
          "text": [
            "C"
          ],
          "name": "stdout"
        },
        {
          "output_type": "error",
          "ename": "KeyboardInterrupt",
          "evalue": "ignored",
          "traceback": [
            "\u001b[0;31m---------------------------------------------------------------------------\u001b[0m",
            "\u001b[0;31mKeyboardInterrupt\u001b[0m                         Traceback (most recent call last)",
            "\u001b[0;32m<ipython-input-121-fbd55f77ab7c>\u001b[0m in \u001b[0;36m<module>\u001b[0;34m()\u001b[0m\n\u001b[0;32m----> 1\u001b[0;31m \u001b[0mtest\u001b[0m\u001b[0;34m(\u001b[0m\u001b[0;34m)\u001b[0m\u001b[0;34m\u001b[0m\u001b[0;34m\u001b[0m\u001b[0m\n\u001b[0m",
            "\u001b[0;32m<ipython-input-119-b052fd97f74e>\u001b[0m in \u001b[0;36mtest\u001b[0;34m()\u001b[0m\n\u001b[1;32m     13\u001b[0m \u001b[0;34m\u001b[0m\u001b[0m\n\u001b[1;32m     14\u001b[0m   \u001b[0;32mwhile\u001b[0m \u001b[0;32mTrue\u001b[0m\u001b[0;34m:\u001b[0m\u001b[0;34m\u001b[0m\u001b[0;34m\u001b[0m\u001b[0m\n\u001b[0;32m---> 15\u001b[0;31m     \u001b[0mbyte\u001b[0m \u001b[0;34m=\u001b[0m \u001b[0meval_js\u001b[0m\u001b[0;34m(\u001b[0m\u001b[0;34m'capture()'\u001b[0m\u001b[0;34m)\u001b[0m\u001b[0;34m\u001b[0m\u001b[0;34m\u001b[0m\u001b[0m\n\u001b[0m\u001b[1;32m     16\u001b[0m     \u001b[0mim\u001b[0m \u001b[0;34m=\u001b[0m \u001b[0mbyte2image\u001b[0m\u001b[0;34m(\u001b[0m\u001b[0mbyte\u001b[0m\u001b[0;34m)\u001b[0m\u001b[0;34m\u001b[0m\u001b[0;34m\u001b[0m\u001b[0m\n\u001b[1;32m     17\u001b[0m \u001b[0;34m\u001b[0m\u001b[0m\n",
            "\u001b[0;32m/usr/local/lib/python3.6/dist-packages/google/colab/output/_js.py\u001b[0m in \u001b[0;36meval_js\u001b[0;34m(script, ignore_result)\u001b[0m\n\u001b[1;32m     37\u001b[0m   \u001b[0;32mif\u001b[0m \u001b[0mignore_result\u001b[0m\u001b[0;34m:\u001b[0m\u001b[0;34m\u001b[0m\u001b[0;34m\u001b[0m\u001b[0m\n\u001b[1;32m     38\u001b[0m     \u001b[0;32mreturn\u001b[0m\u001b[0;34m\u001b[0m\u001b[0;34m\u001b[0m\u001b[0m\n\u001b[0;32m---> 39\u001b[0;31m   \u001b[0;32mreturn\u001b[0m \u001b[0m_message\u001b[0m\u001b[0;34m.\u001b[0m\u001b[0mread_reply_from_input\u001b[0m\u001b[0;34m(\u001b[0m\u001b[0mrequest_id\u001b[0m\u001b[0;34m)\u001b[0m\u001b[0;34m\u001b[0m\u001b[0;34m\u001b[0m\u001b[0m\n\u001b[0m\u001b[1;32m     40\u001b[0m \u001b[0;34m\u001b[0m\u001b[0m\n\u001b[1;32m     41\u001b[0m \u001b[0;34m\u001b[0m\u001b[0m\n",
            "\u001b[0;32m/usr/local/lib/python3.6/dist-packages/google/colab/_message.py\u001b[0m in \u001b[0;36mread_reply_from_input\u001b[0;34m(message_id, timeout_sec)\u001b[0m\n\u001b[1;32m     99\u001b[0m     \u001b[0mreply\u001b[0m \u001b[0;34m=\u001b[0m \u001b[0m_read_next_input_message\u001b[0m\u001b[0;34m(\u001b[0m\u001b[0;34m)\u001b[0m\u001b[0;34m\u001b[0m\u001b[0;34m\u001b[0m\u001b[0m\n\u001b[1;32m    100\u001b[0m     \u001b[0;32mif\u001b[0m \u001b[0mreply\u001b[0m \u001b[0;34m==\u001b[0m \u001b[0m_NOT_READY\u001b[0m \u001b[0;32mor\u001b[0m \u001b[0;32mnot\u001b[0m \u001b[0misinstance\u001b[0m\u001b[0;34m(\u001b[0m\u001b[0mreply\u001b[0m\u001b[0;34m,\u001b[0m \u001b[0mdict\u001b[0m\u001b[0;34m)\u001b[0m\u001b[0;34m:\u001b[0m\u001b[0;34m\u001b[0m\u001b[0;34m\u001b[0m\u001b[0m\n\u001b[0;32m--> 101\u001b[0;31m       \u001b[0mtime\u001b[0m\u001b[0;34m.\u001b[0m\u001b[0msleep\u001b[0m\u001b[0;34m(\u001b[0m\u001b[0;36m0.025\u001b[0m\u001b[0;34m)\u001b[0m\u001b[0;34m\u001b[0m\u001b[0;34m\u001b[0m\u001b[0m\n\u001b[0m\u001b[1;32m    102\u001b[0m       \u001b[0;32mcontinue\u001b[0m\u001b[0;34m\u001b[0m\u001b[0;34m\u001b[0m\u001b[0m\n\u001b[1;32m    103\u001b[0m     if (reply.get('type') == 'colab_reply' and\n",
            "\u001b[0;31mKeyboardInterrupt\u001b[0m: "
          ]
        }
      ]
    },
    {
      "cell_type": "markdown",
      "metadata": {
        "id": "LCuA8IXEMpvp"
      },
      "source": [
        "# Nineth Task: Using VGG\n",
        "first we import the vgg related packages we need"
      ]
    },
    {
      "cell_type": "code",
      "metadata": {
        "id": "ZAMHO4UXD84y"
      },
      "source": [
        "from keras.models import Model\n",
        "from keras.applications.vgg19 import VGG19\n",
        "from keras.preprocessing import image as kimage\n",
        "from keras.applications.vgg19 import preprocess_input\n",
        "import glob"
      ],
      "execution_count": null,
      "outputs": []
    },
    {
      "cell_type": "code",
      "metadata": {
        "id": "MQOog5G9Ergb"
      },
      "source": [
        "#get our 224*224 files\n",
        "path_to_images = \"/content/drive/My Drive/yourhand\"\n",
        "paths_list = sorted(glob.glob(path_to_images + \"/*_224.jpg\"))"
      ],
      "execution_count": null,
      "outputs": []
    },
    {
      "cell_type": "markdown",
      "metadata": {
        "id": "KprZgESaNGg1"
      },
      "source": [
        "here we use the vgg model to extract fectures"
      ]
    },
    {
      "cell_type": "code",
      "metadata": {
        "id": "Ou9LLtW_EV7j",
        "colab": {
          "base_uri": "https://localhost:8080/",
          "height": 1000
        },
        "outputId": "46552e32-79d3-4b46-f353-9cf9f7c88cd3"
      },
      "source": [
        "\n",
        "X = np.empty((len(paths_list), 224, 224, 3))\n",
        "for i, image_path in enumerate(paths_list):\n",
        "    image = kimage.load_img(image_path)\n",
        "    image = kimage.img_to_array(image)\n",
        "    image = preprocess_input(image) #will convert the images from RGB to BGR, then will zero-center each color channel with respect to the ImageNet dataset, without scaling.\n",
        "    X[i] = image\n",
        "\n",
        "vgg_model = VGG19(weights='imagenet') # Load VGG model and weights\n",
        "\n",
        "model_vgg = Model(inputs=vgg_model.input, outputs=[vgg_model.get_layer(\"fc2\").output]) # Get the fc2 layer instead of the prediction layer trained for ImageNet\n",
        "model_vgg.summary() # See our model\n",
        "\n",
        "output_feats = model_vgg.predict(X) # Extract features of our images. Size = (nb_images, 4096)"
      ],
      "execution_count": null,
      "outputs": [
        {
          "output_type": "stream",
          "text": [
            "Downloading data from https://github.com/fchollet/deep-learning-models/releases/download/v0.1/vgg19_weights_tf_dim_ordering_tf_kernels.h5\n",
            "574717952/574710816 [==============================] - 35s 0us/step\n",
            "Model: \"model_1\"\n",
            "_________________________________________________________________\n",
            "Layer (type)                 Output Shape              Param #   \n",
            "=================================================================\n",
            "input_1 (InputLayer)         (None, 224, 224, 3)       0         \n",
            "_________________________________________________________________\n",
            "block1_conv1 (Conv2D)        (None, 224, 224, 64)      1792      \n",
            "_________________________________________________________________\n",
            "block1_conv2 (Conv2D)        (None, 224, 224, 64)      36928     \n",
            "_________________________________________________________________\n",
            "block1_pool (MaxPooling2D)   (None, 112, 112, 64)      0         \n",
            "_________________________________________________________________\n",
            "block2_conv1 (Conv2D)        (None, 112, 112, 128)     73856     \n",
            "_________________________________________________________________\n",
            "block2_conv2 (Conv2D)        (None, 112, 112, 128)     147584    \n",
            "_________________________________________________________________\n",
            "block2_pool (MaxPooling2D)   (None, 56, 56, 128)       0         \n",
            "_________________________________________________________________\n",
            "block3_conv1 (Conv2D)        (None, 56, 56, 256)       295168    \n",
            "_________________________________________________________________\n",
            "block3_conv2 (Conv2D)        (None, 56, 56, 256)       590080    \n",
            "_________________________________________________________________\n",
            "block3_conv3 (Conv2D)        (None, 56, 56, 256)       590080    \n",
            "_________________________________________________________________\n",
            "block3_conv4 (Conv2D)        (None, 56, 56, 256)       590080    \n",
            "_________________________________________________________________\n",
            "block3_pool (MaxPooling2D)   (None, 28, 28, 256)       0         \n",
            "_________________________________________________________________\n",
            "block4_conv1 (Conv2D)        (None, 28, 28, 512)       1180160   \n",
            "_________________________________________________________________\n",
            "block4_conv2 (Conv2D)        (None, 28, 28, 512)       2359808   \n",
            "_________________________________________________________________\n",
            "block4_conv3 (Conv2D)        (None, 28, 28, 512)       2359808   \n",
            "_________________________________________________________________\n",
            "block4_conv4 (Conv2D)        (None, 28, 28, 512)       2359808   \n",
            "_________________________________________________________________\n",
            "block4_pool (MaxPooling2D)   (None, 14, 14, 512)       0         \n",
            "_________________________________________________________________\n",
            "block5_conv1 (Conv2D)        (None, 14, 14, 512)       2359808   \n",
            "_________________________________________________________________\n",
            "block5_conv2 (Conv2D)        (None, 14, 14, 512)       2359808   \n",
            "_________________________________________________________________\n",
            "block5_conv3 (Conv2D)        (None, 14, 14, 512)       2359808   \n",
            "_________________________________________________________________\n",
            "block5_conv4 (Conv2D)        (None, 14, 14, 512)       2359808   \n",
            "_________________________________________________________________\n",
            "block5_pool (MaxPooling2D)   (None, 7, 7, 512)         0         \n",
            "_________________________________________________________________\n",
            "flatten (Flatten)            (None, 25088)             0         \n",
            "_________________________________________________________________\n",
            "fc1 (Dense)                  (None, 4096)              102764544 \n",
            "_________________________________________________________________\n",
            "fc2 (Dense)                  (None, 4096)              16781312  \n",
            "=================================================================\n",
            "Total params: 139,570,240\n",
            "Trainable params: 139,570,240\n",
            "Non-trainable params: 0\n",
            "_________________________________________________________________\n"
          ],
          "name": "stdout"
        }
      ]
    },
    {
      "cell_type": "code",
      "metadata": {
        "id": "3KcWMP7gJ0-z"
      },
      "source": [
        "#the output doesn't contain the letter so we put the letter back\n",
        "#create the list of letter\n",
        "letterlist=[]\n",
        "for path in paths_list:\n",
        "  letterlist.append(path.split(\"/\")[-1][0])\n",
        "#combine the letters with the output\n",
        "vggfile=np.concatenate((letterarray,output_feats ),axis=1)"
      ],
      "execution_count": null,
      "outputs": []
    },
    {
      "cell_type": "code",
      "metadata": {
        "id": "bjSQIEsqISS_"
      },
      "source": [
        " #saving the txt file \n",
        "  with open('vgg.txt', 'w') as f:\n",
        "      np.savetxt(f, vggfile,delimiter=\",\", fmt='%s')"
      ],
      "execution_count": null,
      "outputs": []
    },
    {
      "cell_type": "code",
      "metadata": {
        "id": "TCrBehluz309"
      },
      "source": [
        "#shuffle the lines\n",
        "import random\n",
        "lines = open('vgg.txt').readlines()\n",
        "random.shuffle(lines)\n",
        "open('vgg.txt', 'w').writelines(lines)"
      ],
      "execution_count": null,
      "outputs": []
    },
    {
      "cell_type": "markdown",
      "metadata": {
        "id": "Xlubi9x2NzYE"
      },
      "source": [
        "Time to use this VGG model\n",
        "\n",
        "\n",
        "We did everything like before, build the keras model and then train it."
      ]
    },
    {
      "cell_type": "code",
      "metadata": {
        "id": "IyN_8_hLOdPw"
      },
      "source": [
        "#create dataset with lable\n",
        "samples_v, letters_v= load_dataset(\"vgg.txt\")"
      ],
      "execution_count": null,
      "outputs": []
    },
    {
      "cell_type": "code",
      "metadata": {
        "id": "sfVmiOTYQFWm",
        "colab": {
          "base_uri": "https://localhost:8080/",
          "height": 51
        },
        "outputId": "64b41ac6-c29f-4afd-d8fa-67dcf9d92dfc"
      },
      "source": [
        "#split the dataset\n",
        "num_classes=4\n",
        "#because the dataset is too small, I set the ratio as 0.8 for using more training data\n",
        "train_ratio = 0.8\n",
        "n_train_samples_v = int(len(samples_v) * train_ratio)\n",
        "x_train_v, y_train_v = samples_v[:n_train_samples_v], letters_v[:n_train_samples_v]\n",
        "x_val_v, y_val_v = samples_v[n_train_samples_v:], letters_v[n_train_samples_v:]\n",
        "\n",
        "x_train_v = x_train_v.astype('float32')\n",
        "x_val_v = x_val_v.astype('float32')\n",
        "\n",
        "print(x_train_v.shape[0], 'train samples')\n",
        "print(x_val_v.shape[0], 'test samples')\n",
        "\n",
        "# convert class vectors to binary class matrices\n",
        "y_train_v = keras.utils.to_categorical(y_train_v, num_classes)\n",
        "y_val_v = keras.utils.to_categorical(y_val_v, num_classes)"
      ],
      "execution_count": null,
      "outputs": [
        {
          "output_type": "stream",
          "text": [
            "582 train samples\n",
            "146 test samples\n"
          ],
          "name": "stdout"
        }
      ]
    },
    {
      "cell_type": "code",
      "metadata": {
        "id": "iZTF8XPTVwSD"
      },
      "source": [
        "#clear the previouss model built before building a new training model\n",
        "keras.backend.clear_session()"
      ],
      "execution_count": null,
      "outputs": []
    },
    {
      "cell_type": "code",
      "metadata": {
        "id": "_cwCMtthRpsX",
        "colab": {
          "base_uri": "https://localhost:8080/",
          "height": 952
        },
        "outputId": "e445e08e-5276-4370-f7fa-e253a12f8b4e"
      },
      "source": [
        "# MLP\n",
        "epochs = 20\n",
        "\n",
        "model = Sequential()\n",
        "model.add(Dense(1000, activation='relu', input_shape=(4096,)))\n",
        "\n",
        "model.add(Dense(num_classes, activation='softmax'))\n",
        "\n",
        "model.summary()\n",
        "\n",
        "model.compile(loss='categorical_crossentropy',\n",
        "              optimizer='rmsprop',\n",
        "              metrics=['accuracy'])\n",
        "\n",
        "history = model.fit(x_train_v, y_train_v,\n",
        "                    epochs=epochs,\n",
        "                    verbose=1,\n",
        "                    validation_data=(x_val_v, y_val_v))\n",
        "score = model.evaluate(x_val_v, y_val_v, verbose=0)\n",
        "print('Validation loss:', score[0])\n",
        "print('Validation accuracy:', score[1])\n"
      ],
      "execution_count": null,
      "outputs": [
        {
          "output_type": "stream",
          "text": [
            "Model: \"sequential_1\"\n",
            "_________________________________________________________________\n",
            "Layer (type)                 Output Shape              Param #   \n",
            "=================================================================\n",
            "dense_1 (Dense)              (None, 1000)              4097000   \n",
            "_________________________________________________________________\n",
            "dense_2 (Dense)              (None, 4)                 4004      \n",
            "=================================================================\n",
            "Total params: 4,101,004\n",
            "Trainable params: 4,101,004\n",
            "Non-trainable params: 0\n",
            "_________________________________________________________________\n",
            "Train on 582 samples, validate on 146 samples\n",
            "Epoch 1/20\n",
            "582/582 [==============================] - 1s 986us/step - loss: 6.3418 - accuracy: 0.6460 - val_loss: 2.6764 - val_accuracy: 0.6644\n",
            "Epoch 2/20\n",
            "582/582 [==============================] - 0s 828us/step - loss: 0.7446 - accuracy: 0.8677 - val_loss: 1.4026 - val_accuracy: 0.8151\n",
            "Epoch 3/20\n",
            "582/582 [==============================] - 0s 844us/step - loss: 0.9282 - accuracy: 0.8660 - val_loss: 5.3544 - val_accuracy: 0.4521\n",
            "Epoch 4/20\n",
            "582/582 [==============================] - 0s 819us/step - loss: 0.7315 - accuracy: 0.8900 - val_loss: 0.5028 - val_accuracy: 0.8904\n",
            "Epoch 5/20\n",
            "582/582 [==============================] - 0s 833us/step - loss: 0.2489 - accuracy: 0.9519 - val_loss: 0.4796 - val_accuracy: 0.9041\n",
            "Epoch 6/20\n",
            "582/582 [==============================] - 0s 852us/step - loss: 0.6910 - accuracy: 0.9278 - val_loss: 1.6510 - val_accuracy: 0.8151\n",
            "Epoch 7/20\n",
            "582/582 [==============================] - 0s 838us/step - loss: 0.1879 - accuracy: 0.9759 - val_loss: 0.1940 - val_accuracy: 0.9658\n",
            "Epoch 8/20\n",
            "582/582 [==============================] - 0s 841us/step - loss: 0.5389 - accuracy: 0.9519 - val_loss: 0.2798 - val_accuracy: 0.9384\n",
            "Epoch 9/20\n",
            "582/582 [==============================] - 0s 846us/step - loss: 0.0034 - accuracy: 1.0000 - val_loss: 0.1688 - val_accuracy: 0.9521\n",
            "Epoch 10/20\n",
            "582/582 [==============================] - 0s 823us/step - loss: 0.0019 - accuracy: 1.0000 - val_loss: 1.0312 - val_accuracy: 0.8356\n",
            "Epoch 11/20\n",
            "582/582 [==============================] - 0s 832us/step - loss: 0.6194 - accuracy: 0.9244 - val_loss: 0.2238 - val_accuracy: 0.9589\n",
            "Epoch 12/20\n",
            "582/582 [==============================] - 0s 850us/step - loss: 6.3572e-04 - accuracy: 1.0000 - val_loss: 0.1770 - val_accuracy: 0.9521\n",
            "Epoch 13/20\n",
            "582/582 [==============================] - 0s 848us/step - loss: 2.7459e-04 - accuracy: 1.0000 - val_loss: 0.1822 - val_accuracy: 0.9589\n",
            "Epoch 14/20\n",
            "582/582 [==============================] - 0s 847us/step - loss: 3.2313e-04 - accuracy: 1.0000 - val_loss: 0.8151 - val_accuracy: 0.8767\n",
            "Epoch 15/20\n",
            "582/582 [==============================] - 0s 842us/step - loss: 1.0086 - accuracy: 0.9158 - val_loss: 0.2365 - val_accuracy: 0.9521\n",
            "Epoch 16/20\n",
            "582/582 [==============================] - 0s 846us/step - loss: 2.0881e-04 - accuracy: 1.0000 - val_loss: 0.2470 - val_accuracy: 0.9589\n",
            "Epoch 17/20\n",
            "582/582 [==============================] - 0s 841us/step - loss: 1.5377e-04 - accuracy: 1.0000 - val_loss: 0.4239 - val_accuracy: 0.9110\n",
            "Epoch 18/20\n",
            "582/582 [==============================] - 0s 836us/step - loss: 0.6701 - accuracy: 0.9347 - val_loss: 0.3646 - val_accuracy: 0.9247\n",
            "Epoch 19/20\n",
            "582/582 [==============================] - 1s 863us/step - loss: 0.0023 - accuracy: 0.9983 - val_loss: 0.2394 - val_accuracy: 0.9521\n",
            "Epoch 20/20\n",
            "582/582 [==============================] - 0s 841us/step - loss: 3.3084e-04 - accuracy: 1.0000 - val_loss: 0.2064 - val_accuracy: 0.9795\n",
            "Validation loss: 0.20637316960994512\n",
            "Validation accuracy: 0.9794520735740662\n"
          ],
          "name": "stdout"
        }
      ]
    },
    {
      "cell_type": "markdown",
      "metadata": {
        "id": "dC8SEnwcTNUG"
      },
      "source": [
        "Epoch 10  Dense 300   Dropout 0.2  Dense 100    \\\\\\ Result:  loss: 0.1412 - accuracy: 0.9536 - val_loss: 0.3083 - val_accuracy: 0.9247\n",
        "\n",
        "Epoch 20  Dense 300  Dense 100   \\\\\\  Result: loss: 2.1775e-04 - accuracy: 1.0000 - val_loss: 0.2272 - val_accuracy: 0.9589\n",
        "\n",
        "Epoch 20  Dense 300     \\\\\\  Result: oss: 1.5439e-04 - accuracy: 1.0000 - val_loss: 0.1921 - val_accuracy: 0.9589\n",
        "\n",
        "Epoch 20  Dense 1000     \\\\\\  Result: loss: 3.3084e-04 - accuracy: 1.0000 - val_loss: 0.2064 - val_accuracy: 0.9795\n",
        "\n",
        "\n",
        "\n",
        "Epoch 20  Dense 1000  Dense 200   \\\\\\  Result: loss: 0.2312 - accuracy: 0.9639 - val_loss: 0.3055 - val_accuracy: 0.9521\n",
        "\n",
        "Epoch 20  Dense 1000  Dense 200 Dense 100 \\\\\\  Result: loss: 1.8428e-06 - accuracy: 1.0000 - val_loss: 0.2606 - val_accuracy: 0.9658\n"
      ]
    },
    {
      "cell_type": "markdown",
      "metadata": {
        "id": "GlPUWIfdRL-s"
      },
      "source": [
        "The result 0.9795 is better than the one we got without vgg.(0.958)"
      ]
    },
    {
      "cell_type": "code",
      "metadata": {
        "id": "Z842c2sw6Tec",
        "colab": {
          "base_uri": "https://localhost:8080/",
          "height": 34
        },
        "outputId": "8837de5c-921e-4f2d-9733-2a7d3d687839"
      },
      "source": [
        "#save the model\n",
        "model_json_vgg = model.to_json()\n",
        "with open(\"model_vgg.json\", \"w\") as json_file:\n",
        "    json_file.write(model_json_vgg)\n",
        "model.save_weights(\"model_weights_vgg.h5\")\n",
        "print(\"Saved vgg.model to disk\")"
      ],
      "execution_count": null,
      "outputs": [
        {
          "output_type": "stream",
          "text": [
            "Saved vgg.model to disk\n"
          ],
          "name": "stdout"
        }
      ]
    },
    {
      "cell_type": "code",
      "metadata": {
        "id": "JBgfnEP_6q5X"
      },
      "source": [
        "#read model\n",
        "from keras.models import model_from_json\n",
        "\n",
        "# load json and create model\n",
        "json_file = open('model_vgg.json', 'r')\n",
        "loaded_model_json = json_file.read()\n",
        "json_file.close()\n",
        "loaded_model = model_from_json(loaded_model_json)\n",
        "# load weights into new model\n",
        "loaded_model.load_weights(\"model_weights_vgg.h5\")"
      ],
      "execution_count": null,
      "outputs": []
    },
    {
      "cell_type": "code",
      "metadata": {
        "id": "C36qNU3966Z-"
      },
      "source": [
        "#this function is almost the same as the previous function for detecting without vgg\n",
        "def  vgg_test():\n",
        "  VideoCapture()\n",
        "  eval_js('create()')\n",
        "  show_backproj=False\n",
        "  take=False\n",
        "  #Initialize rects\n",
        "  rects=[]\n",
        "  track_window_hand=()\n",
        "  prob16=[]\n",
        "  prob224=[]\n",
        "\n",
        "  while True:\n",
        "    byte = eval_js('capture()')\n",
        "    im = byte2image(byte)\n",
        "    vis = im.copy()\n",
        "    imcopy=im.copy()\n",
        "    # load input image in hsv mode:\n",
        "    hsv = cv2.cvtColor(im, cv2.COLOR_BGR2HSV)\n",
        "    mask = cv2.inRange(hsv, np.array((25., 30., 30.)), np.array((180., 180., 204.)))\n",
        "\n",
        "    new_track_window=None\n",
        "\n",
        "    # check if there's face been detected\n",
        "  \n",
        "    if len(rects):\n",
        "  #locate the position of face and define an area\n",
        "        for rect in rects:\n",
        "          x11,y11,x22,y22=rect\n",
        "          #set the margin as 20% of the height plus 30 pixels\n",
        "          pad=int(0.2*(y22-y11))+30\n",
        "          x1=x11-pad \n",
        "          # the space should lie inside the video screen\n",
        "          if x1 <0 :\n",
        "            x1=0\n",
        "\n",
        "          y1=y11-pad\n",
        "          if y1 <0:\n",
        "            y1=0\n",
        "\n",
        "          x2=x22+pad\n",
        "          if x2>im.shape[1]:\n",
        "            x2=im.shape[1]\n",
        "\n",
        "          y2=y22+pad\n",
        "          if y2>im.shape[0]:\n",
        "            y2=im.shape[0]\n",
        "\n",
        "          #back projection records how well the pixels fit the pixels of a histogram \n",
        "          prob = cv2.calcBackProject([hsv], [0], hist, [0, 180], 1)\n",
        "          prob &= mask\n",
        "          term_crit = ( cv2.TERM_CRITERIA_EPS | cv2.TERM_CRITERIA_COUNT, 10, 1 )\n",
        "\n",
        "          track_box, track_window = cv2.CamShift(prob[y1:y2,x1:x2], track_window, term_crit)\n",
        "\n",
        "          if track_window is not None:\n",
        "\n",
        "            xx,yy,ww,hh=track_window\n",
        "\n",
        "            rect=[xx+x1,yy+y1,xx++x1+ww,yy+y1+hh]\n",
        "\n",
        "          #if can't find the face in that area we search for the whole screen\n",
        "          else:\n",
        "\n",
        "              xr1,yr1,xr2,yr2=rect\n",
        "              track_window=(xr1+x1,yr1+y2,xr2-xr1,yr2-yr1)\n",
        "              track_box, track_window = cv2.CamShift(prob, track_window, term_crit)\n",
        "\n",
        "              xx,yy,ww,hh=track_window\n",
        "              rect=[xx,yy,xx+ww,yy+hh]\n",
        "            \n",
        "        # set the probability of face as zero \n",
        "          xp1,yp1,xp2,yp2=rect\n",
        "          prob2=prob\n",
        "          prob2[yp1:yp2,xp1:xp2]=0\n",
        "\n",
        "          if show_backproj is True:  \n",
        "            imcopy[:] = prob2[...,np.newaxis]\n",
        "      \n",
        "          #use the histgram we already get to find the hand\n",
        "\n",
        "          track_box_hand, track_window_hand = cv2.CamShift(prob2, track_window, term_crit)\n",
        "          xx,yy,ww,hh=track_window_hand\n",
        "          rect_hand=[xx,yy,xx+ww,yy+hh]\n",
        "\n",
        "          draw_rects(imcopy, rect_hand, (0, 255, 0))   \n",
        "\n",
        "          #the position of the hand \n",
        "\n",
        "          hand_prob=prob2[yy:yy+hh,xx:xx+ww]\n",
        "\n",
        "          #prob16 is for storing the probability of 16*16 image\n",
        "          #prob224 is for storing the probability of 224*224 image\n",
        "\n",
        "          prob16=cv2.resize(hand_prob, (16,16), interpolation = cv2.INTER_AREA)\n",
        "          prob224=cv2.resize(hand_prob, (224,224), interpolation = cv2.INTER_AREA)\n",
        "\n",
        "          \n",
        "                                                                          \n",
        "  #before we track the histogram, we first need to detect the face and get the position\n",
        "\n",
        "    else:\n",
        "    \n",
        "          gray = cv2.cvtColor(vis, cv2.COLOR_RGB2GRAY)\n",
        "\n",
        "          #use Cascade classifier to detect the face\n",
        "\n",
        "          rects = detect(gray, cascade)\n",
        "\n",
        "          if len(rects)>0:\n",
        "\n",
        "            for rect in rects:\n",
        "              x11,y11,x22,y22=rect\n",
        "\n",
        "            track_window=(x11,y11,x22-x11,y22-y11)\n",
        "            hsv_roi = hsv[y11:y22,x11:x22]\n",
        "            mask_roi = mask[y11:y22,x11:x22]\n",
        "\n",
        "            #calculate the histogram\n",
        "            hist = cv2.calcHist( [hsv_roi], [0], mask_roi, [16], [0, 180] )\n",
        "            cv2.normalize(hist, hist, 0, 255, cv2.NORM_MINMAX)\n",
        "            hist = hist.reshape(-1)\n",
        "            vis_roi =vis[y11:y22,x11:x22]\n",
        "            cv2.bitwise_not(vis_roi, vis_roi)\n",
        "            vis[mask == 0] = 0\n",
        "\n",
        "            #set the margin as 20% of the height plus 30 pixels\n",
        "            pad=int(0.2*(y22-y11))+30\n",
        "            x1=x11-pad \n",
        "            # make sure the space lie inside the video screen\n",
        "            if x1 <0 :\n",
        "              x1=0\n",
        "\n",
        "            y1=y11-pad\n",
        "            if y1 <0:\n",
        "              y1=0\n",
        "\n",
        "            xx,yy,ww,hh=track_window\n",
        "            track_window=(xx-x1,yy-y1,ww,hh)\n",
        "\n",
        "            #for subrects in rects:\n",
        "              #draw_rects(imcopy, subrects, (0, 255, 0))   \n",
        "\n",
        "    eval_js('showimg(\"{}\")'.format(image2byte(imcopy)))\n",
        "\n",
        "\n",
        "\n",
        "    if len(prob16)>0:\n",
        "\n",
        "      filename224=\"test_\"+str(224)+\"_test\"+\".jpg\"\n",
        "     \n",
        "      im224 = Image.fromarray(prob224)\n",
        "      im224.save(filename224)\n",
        "      x=np.empty((1,224,224,3))\n",
        "      image = kimage.load_img(filename224)\n",
        "      image = kimage.img_to_array(image)\n",
        "      image = preprocess_input(image)\n",
        "      x[0]=image    \n",
        "      out=model_vgg.predict(x)  \n",
        "      #Following is using  MLP\n",
        "      prediction = loaded_model.predict(out) \n",
        "      prediction = prediction.argmax()\n",
        "      predicted_letter = chr(ord('A') + prediction)\n",
        "\n",
        "      #this is for printing the current letter\n",
        "\n",
        "      sys.stdout.write(\"\\r\" + predicted_letter)\n",
        "      sys.stdout.flush()"
      ],
      "execution_count": null,
      "outputs": []
    },
    {
      "cell_type": "code",
      "metadata": {
        "id": "SfJ8AXM99B1T",
        "colab": {
          "base_uri": "https://localhost:8080/",
          "height": 807
        },
        "outputId": "2440bd01-2d8f-4347-fb7d-0e29b7713758"
      },
      "source": [
        "#test our vgg model, hope it works better\n",
        "vgg_test()"
      ],
      "execution_count": null,
      "outputs": [
        {
          "output_type": "display_data",
          "data": {
            "application/javascript": [
              "\n",
              "    async function create(){\n",
              "      div = document.createElement('div');\n",
              "      document.body.appendChild(div);\n",
              "\n",
              "      video = document.createElement('video');\n",
              "      video.setAttribute('playsinline', '');\n",
              "      video.style.display = \"none\";\n",
              "\n",
              "      div.appendChild(video);\n",
              "\n",
              "      stream = await navigator.mediaDevices.getUserMedia({video: {facingMode: \"environment\"}});\n",
              "      video.srcObject = stream;\n",
              "\n",
              "      await video.play();\n",
              "\n",
              "      canvas =  document.createElement('canvas');\n",
              "      canvas.width = video.videoWidth;\n",
              "      canvas.height = video.videoHeight;\n",
              "      canvas.getContext('2d').drawImage(video, 0, 0);\n",
              "\n",
              "      div_out = document.createElement('div');\n",
              "      document.body.appendChild(div_out);\n",
              "      \n",
              "      img224 = document.createElement('img');\n",
              "      img224.id = \"finalImage224\";\n",
              "      div_out.appendChild(img224);\n",
              "\n",
              "      img64 = document.createElement('img');\n",
              "      img64.id = \"finalImage64\";\n",
              "      div_out.appendChild(img64);\n",
              "\n",
              "      transfer = document.createElement('div');\n",
              "      transfer.id = \"transfer\";\n",
              "      transfer.style.color = \"none\";\n",
              "      document.body.appendChild(transfer);\n",
              "\n",
              "      //window.arr64 = [];\n",
              "      //window.arr224 = [];\n",
              "\n",
              "    }\n",
              "\n",
              "    async function capture(){\n",
              "        return await new Promise(function(resolve, reject){\n",
              "            pendingResolve = resolve;\n",
              "            canvas.getContext('2d').drawImage(video, 0, 0);\n",
              "            result = canvas.toDataURL('image/jpeg', 0.8);\n",
              "            pendingResolve(result);\n",
              "        })\n",
              "    }\n",
              "\n",
              "    function showimg(imgsourceb64){\n",
              "        img64.src = \"data:image/jpg;base64,\" + imgsourceb64;\n",
              "    \n",
              "    }\n",
              "\n",
              "  "
            ],
            "text/plain": [
              "<IPython.core.display.Javascript object>"
            ]
          },
          "metadata": {
            "tags": []
          }
        },
        {
          "output_type": "stream",
          "text": [
            "C"
          ],
          "name": "stdout"
        },
        {
          "output_type": "error",
          "ename": "KeyboardInterrupt",
          "evalue": "ignored",
          "traceback": [
            "\u001b[0;31m---------------------------------------------------------------------------\u001b[0m",
            "\u001b[0;31mKeyboardInterrupt\u001b[0m                         Traceback (most recent call last)",
            "\u001b[0;32m<ipython-input-296-56acb40cdaeb>\u001b[0m in \u001b[0;36m<module>\u001b[0;34m()\u001b[0m\n\u001b[0;32m----> 1\u001b[0;31m \u001b[0mvgg_test\u001b[0m\u001b[0;34m(\u001b[0m\u001b[0;34m)\u001b[0m\u001b[0;34m\u001b[0m\u001b[0;34m\u001b[0m\u001b[0m\n\u001b[0m",
            "\u001b[0;32m<ipython-input-292-de6bc37eef6e>\u001b[0m in \u001b[0;36mvgg_test\u001b[0;34m()\u001b[0m\n\u001b[1;32m     13\u001b[0m \u001b[0;34m\u001b[0m\u001b[0m\n\u001b[1;32m     14\u001b[0m   \u001b[0;32mwhile\u001b[0m \u001b[0;32mTrue\u001b[0m\u001b[0;34m:\u001b[0m\u001b[0;34m\u001b[0m\u001b[0;34m\u001b[0m\u001b[0m\n\u001b[0;32m---> 15\u001b[0;31m     \u001b[0mbyte\u001b[0m \u001b[0;34m=\u001b[0m \u001b[0meval_js\u001b[0m\u001b[0;34m(\u001b[0m\u001b[0;34m'capture()'\u001b[0m\u001b[0;34m)\u001b[0m\u001b[0;34m\u001b[0m\u001b[0;34m\u001b[0m\u001b[0m\n\u001b[0m\u001b[1;32m     16\u001b[0m     \u001b[0mim\u001b[0m \u001b[0;34m=\u001b[0m \u001b[0mbyte2image\u001b[0m\u001b[0;34m(\u001b[0m\u001b[0mbyte\u001b[0m\u001b[0;34m)\u001b[0m\u001b[0;34m\u001b[0m\u001b[0;34m\u001b[0m\u001b[0m\n\u001b[1;32m     17\u001b[0m \u001b[0;34m\u001b[0m\u001b[0m\n",
            "\u001b[0;32m/usr/local/lib/python3.6/dist-packages/google/colab/output/_js.py\u001b[0m in \u001b[0;36meval_js\u001b[0;34m(script, ignore_result)\u001b[0m\n\u001b[1;32m     37\u001b[0m   \u001b[0;32mif\u001b[0m \u001b[0mignore_result\u001b[0m\u001b[0;34m:\u001b[0m\u001b[0;34m\u001b[0m\u001b[0;34m\u001b[0m\u001b[0m\n\u001b[1;32m     38\u001b[0m     \u001b[0;32mreturn\u001b[0m\u001b[0;34m\u001b[0m\u001b[0;34m\u001b[0m\u001b[0m\n\u001b[0;32m---> 39\u001b[0;31m   \u001b[0;32mreturn\u001b[0m \u001b[0m_message\u001b[0m\u001b[0;34m.\u001b[0m\u001b[0mread_reply_from_input\u001b[0m\u001b[0;34m(\u001b[0m\u001b[0mrequest_id\u001b[0m\u001b[0;34m)\u001b[0m\u001b[0;34m\u001b[0m\u001b[0;34m\u001b[0m\u001b[0m\n\u001b[0m\u001b[1;32m     40\u001b[0m \u001b[0;34m\u001b[0m\u001b[0m\n\u001b[1;32m     41\u001b[0m \u001b[0;34m\u001b[0m\u001b[0m\n",
            "\u001b[0;32m/usr/local/lib/python3.6/dist-packages/google/colab/_message.py\u001b[0m in \u001b[0;36mread_reply_from_input\u001b[0;34m(message_id, timeout_sec)\u001b[0m\n\u001b[1;32m     99\u001b[0m     \u001b[0mreply\u001b[0m \u001b[0;34m=\u001b[0m \u001b[0m_read_next_input_message\u001b[0m\u001b[0;34m(\u001b[0m\u001b[0;34m)\u001b[0m\u001b[0;34m\u001b[0m\u001b[0;34m\u001b[0m\u001b[0m\n\u001b[1;32m    100\u001b[0m     \u001b[0;32mif\u001b[0m \u001b[0mreply\u001b[0m \u001b[0;34m==\u001b[0m \u001b[0m_NOT_READY\u001b[0m \u001b[0;32mor\u001b[0m \u001b[0;32mnot\u001b[0m \u001b[0misinstance\u001b[0m\u001b[0;34m(\u001b[0m\u001b[0mreply\u001b[0m\u001b[0;34m,\u001b[0m \u001b[0mdict\u001b[0m\u001b[0;34m)\u001b[0m\u001b[0;34m:\u001b[0m\u001b[0;34m\u001b[0m\u001b[0;34m\u001b[0m\u001b[0m\n\u001b[0;32m--> 101\u001b[0;31m       \u001b[0mtime\u001b[0m\u001b[0;34m.\u001b[0m\u001b[0msleep\u001b[0m\u001b[0;34m(\u001b[0m\u001b[0;36m0.025\u001b[0m\u001b[0;34m)\u001b[0m\u001b[0;34m\u001b[0m\u001b[0;34m\u001b[0m\u001b[0m\n\u001b[0m\u001b[1;32m    102\u001b[0m       \u001b[0;32mcontinue\u001b[0m\u001b[0;34m\u001b[0m\u001b[0;34m\u001b[0m\u001b[0m\n\u001b[1;32m    103\u001b[0m     if (reply.get('type') == 'colab_reply' and\n",
            "\u001b[0;31mKeyboardInterrupt\u001b[0m: "
          ]
        }
      ]
    },
    {
      "cell_type": "markdown",
      "metadata": {
        "id": "cyV9IQm2Za8o"
      },
      "source": [
        "# Readme\n",
        "\n",
        "1.Run the code by order. When you run 'Create dataset' cell, every time you click the button, it will save two hand image. The two image probability are size 16* 16 and 224* 224 respectively. \n",
        "\n",
        "2.The probability files will be saved in Google drive. We also save all the 16*16 images into a txt file.\n",
        "\n",
        "3.Then we use the dataset to train, save and test the first model\n",
        "\n",
        "4.Build the vgg model and then train, save and test the second model\n",
        "\n",
        "Notice: The hand detection is sometimes affected by the noise in the background and light condition. It's better to find the suitable hsv before detecting.\n",
        "Even so, the result is still affected by the environment\n",
        "\n",
        "For the hand tracking code, the process is, it first detect the face, get the histgram of face, then use this histgram to find the hand."
      ]
    }
  ]
}